{
 "cells": [
  {
   "cell_type": "markdown",
   "metadata": {},
   "source": [
    "# Visualize Directory\n",
    "- Following thread \"http://www.austintaylor.io/d3/python/pandas/2016/02/01/create-d3-chart-python-force-directed/\""
   ]
  },
  {
   "cell_type": "markdown",
   "metadata": {},
   "source": [
    "## The Network Structure\n",
    "- A dictionary with two lists, nodes and links.\n",
    "- links contains the relationships between nodes\n",
    "- nodes contains each individual node"
   ]
  },
  {
   "cell_type": "markdown",
   "metadata": {},
   "source": [
    "```json\n",
    "{\n",
    "  \"nodes\":  [\n",
    "    { \"name\": \"desktop\", \"group\":  1},\n",
    "    { \"name\": \"desktop/apples.txt\", \"group\":  1},\n",
    "    { \"name\": \"desktop/pineapple/apples.txt\", \"group\":  1},\n",
    "    { \"name\": \"desktop/bananas.txt\", \"group\":  1}\n",
    "  ],\n",
    "\n",
    "  \"links\":  [\n",
    "    { \"source\":  1,  \"target\":  0,  \"value\":  5555 },\n",
    "    { \"source\":  2,  \"target\":  0,  \"value\":  1 },\n",
    "    { \"source\":  3,  \"target\":  0,  \"value\": 1 }\n",
    "  ]\n",
    "}\n",
    "```"
   ]
  },
  {
   "cell_type": "markdown",
   "metadata": {},
   "source": [
    "## Setup"
   ]
  },
  {
   "cell_type": "markdown",
   "metadata": {},
   "source": [
    "### Set group node option"
   ]
  },
  {
   "cell_type": "code",
   "execution_count": 1,
   "metadata": {},
   "outputs": [],
   "source": [
    "set_groups_to_file_types = True\n",
    "\n",
    "#base size of nodes, the size of nodes is increased by a factor involving the file/directory size\n",
    "base_size = 2.5"
   ]
  },
  {
   "cell_type": "markdown",
   "metadata": {},
   "source": [
    "### Modules"
   ]
  },
  {
   "cell_type": "code",
   "execution_count": 2,
   "metadata": {},
   "outputs": [],
   "source": [
    "import os\n",
    "import pandas\n",
    "import json"
   ]
  },
  {
   "cell_type": "markdown",
   "metadata": {},
   "source": [
    "### Set path of directory you wish to visualize"
   ]
  },
  {
   "cell_type": "code",
   "execution_count": 3,
   "metadata": {},
   "outputs": [],
   "source": [
    "path = '/Users/danielcorcoran/desktop/github_repos/python_nb_data/'\n",
    "export_path = \"/users/danielcorcoran/desktop/github_repos/python_nb_networks/json/\""
   ]
  },
  {
   "cell_type": "markdown",
   "metadata": {},
   "source": [
    "### Helper functions to get size of directory/files, define node sizes"
   ]
  },
  {
   "cell_type": "markdown",
   "metadata": {},
   "source": [
    "#### Retrieving directory size in bytes given a `directory_path`"
   ]
  },
  {
   "cell_type": "code",
   "execution_count": 4,
   "metadata": {},
   "outputs": [],
   "source": [
    "def get_directory_size(directory_path = \"\"):\n",
    "    \n",
    "    directory_size = 0\n",
    "    \n",
    "    for dirpath, dirnames, filenames in os.walk(directory_path):\n",
    "        for f in filenames:\n",
    "            fp = os.path.join(dirpath, f)\n",
    "            directory_size += os.path.getsize(fp)\n",
    "            \n",
    "    return directory_size"
   ]
  },
  {
   "cell_type": "markdown",
   "metadata": {},
   "source": [
    "#### Retrieving file size in bytes given a `file_path`"
   ]
  },
  {
   "cell_type": "code",
   "execution_count": 5,
   "metadata": {},
   "outputs": [],
   "source": [
    "def get_file_size(file_path = \"\"):\n",
    "    \n",
    "    file_size = os.path.getsize(file_path)\n",
    "    \n",
    "    return file_size"
   ]
  },
  {
   "cell_type": "markdown",
   "metadata": {},
   "source": [
    "#### Calculate size bracket based on file size in megabytes, return a `node_size`"
   ]
  },
  {
   "cell_type": "code",
   "execution_count": 6,
   "metadata": {},
   "outputs": [],
   "source": [
    "def get_size_bracket(file_size_megabytes, base_size = 0):\n",
    "    \n",
    "    if file_size_megabytes <= 1:\n",
    "        node_size = 3\n",
    "    elif file_size_megabytes <= 10:\n",
    "        node_size = 4\n",
    "    elif file_size_megabytes <= 100:\n",
    "        node_size = 4.5\n",
    "    elif file_size_megabytes <= 1000:\n",
    "        node_size = 5\n",
    "    elif file_size_megabytes <= 10000:\n",
    "        node_size = 6\n",
    "    else:\n",
    "        node_size = 10\n",
    "        \n",
    "    return node_size + base_size"
   ]
  },
  {
   "cell_type": "markdown",
   "metadata": {},
   "source": [
    "## Process"
   ]
  },
  {
   "cell_type": "markdown",
   "metadata": {},
   "source": [
    "### Create Initial Dataframe containing absolute paths and folder paths"
   ]
  },
  {
   "cell_type": "markdown",
   "metadata": {},
   "source": [
    "#### Create list to store all the absolute paths within the path directory, this will be used to branch out relationships"
   ]
  },
  {
   "cell_type": "code",
   "execution_count": 7,
   "metadata": {},
   "outputs": [],
   "source": [
    "absolute_paths = []"
   ]
  },
  {
   "cell_type": "code",
   "execution_count": 8,
   "metadata": {},
   "outputs": [],
   "source": [
    "for dirpath, dirnames, filenames in os.walk(path):\n",
    "\n",
    "    #print(dirpath, dirnames, filenames)\n",
    "\n",
    "    for dirname in dirnames:\n",
    "        x = dirpath + \"/\" + dirname\n",
    "        \n",
    "        #remove commas, quotation marks, double forward slashes\n",
    "        absolute_paths.append(x.strip().replace(\"//\",\n",
    "                                                \"/\").replace(\"'\", \"\").replace(\n",
    "                                                    '\"', ''))\n",
    "\n",
    "    for filename in filenames:\n",
    "        y = dirpath + \"/\" + filename\n",
    "        \n",
    "        #remove commas, quotation marks, double forward slashes\n",
    "        absolute_paths.append(y.strip().replace(\"//\",\n",
    "                                                \"/\").replace(\"'\", \"\").replace(\n",
    "                                                    '\"', ''))"
   ]
  },
  {
   "cell_type": "markdown",
   "metadata": {},
   "source": [
    "#### Store data in pandas dataframe"
   ]
  },
  {
   "cell_type": "code",
   "execution_count": 9,
   "metadata": {},
   "outputs": [
    {
     "data": {
      "text/html": [
       "<div>\n",
       "<style scoped>\n",
       "    .dataframe tbody tr th:only-of-type {\n",
       "        vertical-align: middle;\n",
       "    }\n",
       "\n",
       "    .dataframe tbody tr th {\n",
       "        vertical-align: top;\n",
       "    }\n",
       "\n",
       "    .dataframe thead th {\n",
       "        text-align: right;\n",
       "    }\n",
       "</style>\n",
       "<table border=\"1\" class=\"dataframe\">\n",
       "  <thead>\n",
       "    <tr style=\"text-align: right;\">\n",
       "      <th></th>\n",
       "      <th>absolute_path</th>\n",
       "    </tr>\n",
       "  </thead>\n",
       "  <tbody>\n",
       "    <tr>\n",
       "      <th>0</th>\n",
       "      <td>/Users/danielcorcoran/desktop/github_repos/pyt...</td>\n",
       "    </tr>\n",
       "    <tr>\n",
       "      <th>1</th>\n",
       "      <td>/Users/danielcorcoran/desktop/github_repos/pyt...</td>\n",
       "    </tr>\n",
       "    <tr>\n",
       "      <th>2</th>\n",
       "      <td>/Users/danielcorcoran/desktop/github_repos/pyt...</td>\n",
       "    </tr>\n",
       "    <tr>\n",
       "      <th>3</th>\n",
       "      <td>/Users/danielcorcoran/desktop/github_repos/pyt...</td>\n",
       "    </tr>\n",
       "    <tr>\n",
       "      <th>4</th>\n",
       "      <td>/Users/danielcorcoran/desktop/github_repos/pyt...</td>\n",
       "    </tr>\n",
       "    <tr>\n",
       "      <th>5</th>\n",
       "      <td>/Users/danielcorcoran/desktop/github_repos/pyt...</td>\n",
       "    </tr>\n",
       "    <tr>\n",
       "      <th>6</th>\n",
       "      <td>/Users/danielcorcoran/desktop/github_repos/pyt...</td>\n",
       "    </tr>\n",
       "    <tr>\n",
       "      <th>7</th>\n",
       "      <td>/Users/danielcorcoran/desktop/github_repos/pyt...</td>\n",
       "    </tr>\n",
       "    <tr>\n",
       "      <th>8</th>\n",
       "      <td>/Users/danielcorcoran/desktop/github_repos/pyt...</td>\n",
       "    </tr>\n",
       "    <tr>\n",
       "      <th>9</th>\n",
       "      <td>/Users/danielcorcoran/desktop/github_repos/pyt...</td>\n",
       "    </tr>\n",
       "    <tr>\n",
       "      <th>10</th>\n",
       "      <td>/Users/danielcorcoran/desktop/github_repos/pyt...</td>\n",
       "    </tr>\n",
       "    <tr>\n",
       "      <th>11</th>\n",
       "      <td>/Users/danielcorcoran/desktop/github_repos/pyt...</td>\n",
       "    </tr>\n",
       "    <tr>\n",
       "      <th>12</th>\n",
       "      <td>/Users/danielcorcoran/desktop/github_repos/pyt...</td>\n",
       "    </tr>\n",
       "    <tr>\n",
       "      <th>13</th>\n",
       "      <td>/Users/danielcorcoran/desktop/github_repos/pyt...</td>\n",
       "    </tr>\n",
       "    <tr>\n",
       "      <th>14</th>\n",
       "      <td>/Users/danielcorcoran/desktop/github_repos/pyt...</td>\n",
       "    </tr>\n",
       "  </tbody>\n",
       "</table>\n",
       "</div>"
      ],
      "text/plain": [
       "                                        absolute_path\n",
       "0   /Users/danielcorcoran/desktop/github_repos/pyt...\n",
       "1   /Users/danielcorcoran/desktop/github_repos/pyt...\n",
       "2   /Users/danielcorcoran/desktop/github_repos/pyt...\n",
       "3   /Users/danielcorcoran/desktop/github_repos/pyt...\n",
       "4   /Users/danielcorcoran/desktop/github_repos/pyt...\n",
       "5   /Users/danielcorcoran/desktop/github_repos/pyt...\n",
       "6   /Users/danielcorcoran/desktop/github_repos/pyt...\n",
       "7   /Users/danielcorcoran/desktop/github_repos/pyt...\n",
       "8   /Users/danielcorcoran/desktop/github_repos/pyt...\n",
       "9   /Users/danielcorcoran/desktop/github_repos/pyt...\n",
       "10  /Users/danielcorcoran/desktop/github_repos/pyt...\n",
       "11  /Users/danielcorcoran/desktop/github_repos/pyt...\n",
       "12  /Users/danielcorcoran/desktop/github_repos/pyt...\n",
       "13  /Users/danielcorcoran/desktop/github_repos/pyt...\n",
       "14  /Users/danielcorcoran/desktop/github_repos/pyt..."
      ]
     },
     "execution_count": 9,
     "metadata": {},
     "output_type": "execute_result"
    }
   ],
   "source": [
    "data = pandas.DataFrame(absolute_paths)\n",
    "data.rename({0: \"absolute_path\"}, axis=1, inplace=True)\n",
    "data.head(15)"
   ]
  },
  {
   "cell_type": "markdown",
   "metadata": {},
   "source": [
    "### Manipulate dataframe into desired format"
   ]
  },
  {
   "cell_type": "markdown",
   "metadata": {},
   "source": [
    "#### Create `source` column"
   ]
  },
  {
   "cell_type": "code",
   "execution_count": 10,
   "metadata": {},
   "outputs": [],
   "source": [
    "for index in range(data.shape[0]):\n",
    "    item = data.iloc[index, 0]\n",
    "    split = item.split(\"/\")\n",
    "\n",
    "    source = (\"/\").join(split[: len(split)-1])\n",
    "    data.loc[index, \"source\"] = source"
   ]
  },
  {
   "cell_type": "code",
   "execution_count": 11,
   "metadata": {},
   "outputs": [
    {
     "data": {
      "text/html": [
       "<div>\n",
       "<style scoped>\n",
       "    .dataframe tbody tr th:only-of-type {\n",
       "        vertical-align: middle;\n",
       "    }\n",
       "\n",
       "    .dataframe tbody tr th {\n",
       "        vertical-align: top;\n",
       "    }\n",
       "\n",
       "    .dataframe thead th {\n",
       "        text-align: right;\n",
       "    }\n",
       "</style>\n",
       "<table border=\"1\" class=\"dataframe\">\n",
       "  <thead>\n",
       "    <tr style=\"text-align: right;\">\n",
       "      <th></th>\n",
       "      <th>absolute_path</th>\n",
       "      <th>source</th>\n",
       "    </tr>\n",
       "  </thead>\n",
       "  <tbody>\n",
       "    <tr>\n",
       "      <th>0</th>\n",
       "      <td>/Users/danielcorcoran/desktop/github_repos/pyt...</td>\n",
       "      <td>/Users/danielcorcoran/desktop/github_repos/pyt...</td>\n",
       "    </tr>\n",
       "    <tr>\n",
       "      <th>1</th>\n",
       "      <td>/Users/danielcorcoran/desktop/github_repos/pyt...</td>\n",
       "      <td>/Users/danielcorcoran/desktop/github_repos/pyt...</td>\n",
       "    </tr>\n",
       "    <tr>\n",
       "      <th>2</th>\n",
       "      <td>/Users/danielcorcoran/desktop/github_repos/pyt...</td>\n",
       "      <td>/Users/danielcorcoran/desktop/github_repos/pyt...</td>\n",
       "    </tr>\n",
       "    <tr>\n",
       "      <th>3</th>\n",
       "      <td>/Users/danielcorcoran/desktop/github_repos/pyt...</td>\n",
       "      <td>/Users/danielcorcoran/desktop/github_repos/pyt...</td>\n",
       "    </tr>\n",
       "    <tr>\n",
       "      <th>4</th>\n",
       "      <td>/Users/danielcorcoran/desktop/github_repos/pyt...</td>\n",
       "      <td>/Users/danielcorcoran/desktop/github_repos/pyt...</td>\n",
       "    </tr>\n",
       "  </tbody>\n",
       "</table>\n",
       "</div>"
      ],
      "text/plain": [
       "                                       absolute_path  \\\n",
       "0  /Users/danielcorcoran/desktop/github_repos/pyt...   \n",
       "1  /Users/danielcorcoran/desktop/github_repos/pyt...   \n",
       "2  /Users/danielcorcoran/desktop/github_repos/pyt...   \n",
       "3  /Users/danielcorcoran/desktop/github_repos/pyt...   \n",
       "4  /Users/danielcorcoran/desktop/github_repos/pyt...   \n",
       "\n",
       "                                              source  \n",
       "0  /Users/danielcorcoran/desktop/github_repos/pyt...  \n",
       "1  /Users/danielcorcoran/desktop/github_repos/pyt...  \n",
       "2  /Users/danielcorcoran/desktop/github_repos/pyt...  \n",
       "3  /Users/danielcorcoran/desktop/github_repos/pyt...  \n",
       "4  /Users/danielcorcoran/desktop/github_repos/pyt...  "
      ]
     },
     "execution_count": 11,
     "metadata": {},
     "output_type": "execute_result"
    }
   ],
   "source": [
    "data.head()"
   ]
  },
  {
   "cell_type": "markdown",
   "metadata": {},
   "source": [
    "#### Create `size_megabytes`, `size_bytes` columns"
   ]
  },
  {
   "cell_type": "code",
   "execution_count": 12,
   "metadata": {},
   "outputs": [
    {
     "name": "stdout",
     "output_type": "stream",
     "text": [
      "scripts is a directory\n",
      ".ipynb_checkpoints is a directory\n",
      ".git is a directory\n",
      "data is a directory\n",
      "notebook_compare_tables_numerics.ipynb is a filename\n",
      "notebook_append_lga_codes_revised.ipynb is a filename\n",
      ".DS_Store is a directory\n",
      "notebook_pandas_excel_parse.ipynb is a filename\n",
      "notebook_backup_to_desktop.ipynb is a filename\n",
      "notebook_standardizing_data.ipynb is a filename\n",
      "notebook_unpivot_partnerships_full.ipynb is a filename\n",
      "notebook_lists_in_python.ipynb is a filename\n",
      "notebook_dealing_with_nulls.ipynb is a filename\n",
      "README.md is a filename\n",
      ".gitignore is a directory\n",
      "notebook_pandas_nulls.ipynb is a filename\n",
      "notebook_str.ipynb is a filename\n",
      "notebook_validate_distinct_tables.ipynb is a filename\n",
      "notebook_test_game.ipynb is a filename\n",
      "notebook_pull_from_postgres.ipynb is a filename\n",
      "notebook_append_lga_codes.ipynb is a filename\n",
      "notebook_pydata_seattle_2017.ipynb is a filename\n",
      "notebook_import_from_path.ipynb is a filename\n",
      "test.py is a filename\n",
      "notebook_append_lga_codes-checkpoint.ipynb is a filename\n",
      "notebook_backup_to_desktop-checkpoint.ipynb is a filename\n",
      "notebook_append_lga_codes_revised-checkpoint.ipynb is a filename\n",
      "objects is a directory\n",
      "info is a directory\n",
      "logs is a directory\n",
      "hooks is a directory\n",
      "refs is a directory\n",
      "ORIG_HEAD is a directory\n",
      "config is a directory\n",
      "HEAD is a directory\n",
      "description is a directory\n",
      "index is a directory\n",
      "packed-refs is a directory\n",
      "COMMIT_EDITMSG is a directory\n",
      "92 is a directory\n",
      "3e is a directory\n",
      "9e is a directory\n",
      "35 is a directory\n",
      "69 is a directory\n",
      "60 is a directory\n",
      "9d is a directory\n",
      "9c is a directory\n",
      "a3 is a directory\n",
      "b5 is a directory\n",
      "ac is a directory\n",
      "da is a directory\n",
      "d6 is a directory\n",
      "e2 is a directory\n",
      "eb is a directory\n",
      "c0 is a directory\n",
      "f2 is a directory\n",
      "f5 is a directory\n",
      "ed is a directory\n",
      "pack is a directory\n",
      "7b is a directory\n",
      "75 is a directory\n",
      "81 is a directory\n",
      "2a is a directory\n",
      "9a is a directory\n",
      "36 is a directory\n",
      "info is a directory\n",
      "65 is a directory\n",
      "3a is a directory\n",
      "53 is a directory\n",
      "3f is a directory\n",
      "30 is a directory\n",
      "6d is a directory\n",
      "ba is a directory\n",
      "b8 is a directory\n",
      "dc is a directory\n",
      "af is a directory\n",
      "db is a directory\n",
      "ea is a directory\n",
      "f1 is a directory\n",
      "f8 is a directory\n",
      "46 is a directory\n",
      "71 is a directory\n",
      "1c is a directory\n",
      "13 is a directory\n",
      "7a is a directory\n",
      "8e is a directory\n",
      "22 is a directory\n",
      "25 is a directory\n",
      "c6e9400b3535775e05c3077b404f93a19ca0ad is a directory\n",
      "3a689c46a167420d149217ed96f92d2b4e2a09 is a directory\n",
      "4cb880f575ccb3a4aafa03a6e17c7636391c55 is a directory\n",
      "eea3f41bb3d1c85babe37ad7b0c15bbaeeeaa8 is a directory\n",
      "02eddec1d8b9a03acb267742b23d7889a73ebf is a directory\n",
      "fdfdc048e38fe1c9dceb7b89b187d268e7747f is a directory\n",
      "2e8762122a0693a998dfcce56a853d19d26744 is a directory\n",
      "c940c564c2450fe85f245b376d2fe068c2ccb1 is a directory\n",
      "df0da7d03bd0cc177d70e4ab7e489ec3d774a8 is a directory\n",
      "057d703e8457640b66329babaae7dbac46d0aa is a directory\n",
      "9cdf9bdb1911ab8489e4604e286632c11de9f6 is a directory\n",
      "dd769ca30c19370c27e1f8ecd08ff16e1525a0 is a directory\n",
      "78add176c5c0694a6577ae3049b78db4911a00 is a directory\n",
      "0f1428c8d2db54995a00aa6d03a0aff2c440a9 is a directory\n",
      "86e720eeaec653038669ef8783a086aa13a2cb is a directory\n",
      "858fcb40fb4b05618a02520c9b9ceac5cdcbd1 is a directory\n",
      "0c85b9d8f4d611bec486d9710aa1c93cbfc349 is a directory\n",
      "404c8050d53223cd2df8f2c94725ed24df44ab is a directory\n",
      "3a0c077f717a4a6207525f74c43f2c64bce140 is a directory\n",
      "59694dab2ef65c49bed892bea6ec25f09e63d0 is a directory\n",
      "d8725f582b092dff7978c2db6fe180d9d94aae is a directory\n",
      "9dbe22f732562fe5088f0cf627291e3e17f3d6 is a directory\n",
      "c376b18a5eb5403168cf09eb023ef38481436a is a directory\n",
      "f315bff79c49985397e63d00e8999414b00fd7 is a directory\n",
      "cd67196ba6bd14e6901203b0310d287ed8e328 is a directory\n",
      "27eeba884c070cee676913b7e591e661aafd6a is a directory\n",
      "367eed7c75aa758aa2908ee8eef436f8547d52 is a directory\n",
      "66e81cdf452523f6372972e49c9be9381198a5 is a directory\n",
      "3199100d16ba721bd94fe0caec1d58af055ede is a directory\n",
      "0909d2d8e3d5bf905ba2f3559fbf9b0e38ad64 is a directory\n",
      "1e37cf05ee756f6328802098b48a79cc53f404 is a directory\n",
      "a196db6f10f7f8a097173ff9de48fb43f4bfc2 is a directory\n",
      "856dd025459a45c14326a38f2fbb55808b676c is a directory\n",
      "308ba8d4107ba93ac801ed01fbb2fe82211166 is a directory\n",
      "ebee7629dd83ebefd21c4343714f059515eedf is a directory\n",
      "c6cfae29dad8cbf507cd64f9cc65122fbb45bd is a directory\n",
      "f49a2c1773fb7125def32fc20ed548758531dd is a directory\n",
      "8235e0bc58a77e8d8f6aeeb31a51624ef027bc is a directory\n",
      "e823b82f653407e6db77bfbc45447086c031b3 is a directory\n",
      "c7cf541f7578f6ca19496cf27ef0cdd55d6fe3 is a directory\n",
      "f1d0c11df691bf248c504057a079c244572bf7 is a directory\n",
      "0dd2e5d93c1f7feabe19aebd938b612081d1f0 is a directory\n",
      "0cbe34ab440952371faf700b6dfd403d2f4cba is a directory\n",
      "10e86fa2a72644317aa0bb69acd59b76da46e1 is a directory\n",
      "b2f82e90c7753cf75c5adecd429e15e8fb450e is a directory\n",
      "e577aebcc075896f715eea9710efcd0ac5beff is a directory\n",
      "dcc61769f06b606802bf404a7665cb91b5c101 is a directory\n",
      "4f212abd4bb2be3869591ee4abee618a291a9f is a directory\n",
      "2bfa1bdd6eefa5432022d2f26777ac6a371c0e is a directory\n",
      "96d7d472910742e5627db4b95f42098cb0c3f3 is a directory\n",
      "56fb665b264b172f129aeefacc51f08b8b029d is a directory\n",
      "a4a099ac119ffab7e0d706f3573b793fb6945d is a directory\n",
      "exclude is a directory\n",
      "refs is a directory\n",
      "HEAD is a directory\n",
      "heads is a directory\n",
      "remotes is a directory\n",
      "master is a directory\n",
      "origin is a directory\n",
      "HEAD is a directory\n",
      "master is a directory\n",
      "commit-msg.sample is a filename\n",
      "pre-rebase.sample is a filename\n",
      "pre-commit.sample is a filename\n",
      "applypatch-msg.sample is a filename\n",
      "pre-receive.sample is a filename\n",
      "prepare-commit-msg.sample is a filename\n",
      "post-update.sample is a filename\n",
      "pre-applypatch.sample is a filename\n",
      "pre-push.sample is a filename\n",
      "update.sample is a filename\n",
      "heads is a directory\n",
      "tags is a directory\n",
      "remotes is a directory\n",
      "master is a directory\n",
      "origin is a directory\n",
      "HEAD is a directory\n",
      "master is a directory\n",
      "test_join.xlsx is a filename\n",
      "test_validation_between_tables.xlsx is a filename\n",
      "test_melt.xlsx is a filename\n",
      "test_null.xlsx is a filename\n"
     ]
    }
   ],
   "source": [
    "for index in range(data.shape[0]):\n",
    "    item = data.loc[index, \"absolute_path\"]\n",
    "    last_item = item.split(\"/\")[-1]\n",
    "    \n",
    "    if last_item.startswith(\".\") == False and \".\" in last_item:\n",
    "        print(last_item, \"is a filename\")\n",
    "        size = get_file_size(item)\n",
    "    else:\n",
    "        print(last_item, \"is a directory\")\n",
    "        size = get_directory_size(item)\n",
    "        \n",
    "    data.loc[index, \"size_bytes\"] = size\n",
    "    \n",
    "data[\"size_megabytes\"] = data[\"size_bytes\"]/1000000"
   ]
  },
  {
   "cell_type": "markdown",
   "metadata": {},
   "source": [
    "#### Create `node_size` column"
   ]
  },
  {
   "cell_type": "code",
   "execution_count": 13,
   "metadata": {},
   "outputs": [
    {
     "data": {
      "text/html": [
       "<div>\n",
       "<style scoped>\n",
       "    .dataframe tbody tr th:only-of-type {\n",
       "        vertical-align: middle;\n",
       "    }\n",
       "\n",
       "    .dataframe tbody tr th {\n",
       "        vertical-align: top;\n",
       "    }\n",
       "\n",
       "    .dataframe thead th {\n",
       "        text-align: right;\n",
       "    }\n",
       "</style>\n",
       "<table border=\"1\" class=\"dataframe\">\n",
       "  <thead>\n",
       "    <tr style=\"text-align: right;\">\n",
       "      <th></th>\n",
       "      <th>absolute_path</th>\n",
       "      <th>source</th>\n",
       "      <th>size_bytes</th>\n",
       "      <th>size_megabytes</th>\n",
       "      <th>node_size</th>\n",
       "    </tr>\n",
       "  </thead>\n",
       "  <tbody>\n",
       "    <tr>\n",
       "      <th>0</th>\n",
       "      <td>/Users/danielcorcoran/desktop/github_repos/pyt...</td>\n",
       "      <td>/Users/danielcorcoran/desktop/github_repos/pyt...</td>\n",
       "      <td>67.0</td>\n",
       "      <td>0.000067</td>\n",
       "      <td>5.5</td>\n",
       "    </tr>\n",
       "    <tr>\n",
       "      <th>1</th>\n",
       "      <td>/Users/danielcorcoran/desktop/github_repos/pyt...</td>\n",
       "      <td>/Users/danielcorcoran/desktop/github_repos/pyt...</td>\n",
       "      <td>27164.0</td>\n",
       "      <td>0.027164</td>\n",
       "      <td>5.5</td>\n",
       "    </tr>\n",
       "    <tr>\n",
       "      <th>2</th>\n",
       "      <td>/Users/danielcorcoran/desktop/github_repos/pyt...</td>\n",
       "      <td>/Users/danielcorcoran/desktop/github_repos/pyt...</td>\n",
       "      <td>192585.0</td>\n",
       "      <td>0.192585</td>\n",
       "      <td>5.5</td>\n",
       "    </tr>\n",
       "    <tr>\n",
       "      <th>3</th>\n",
       "      <td>/Users/danielcorcoran/desktop/github_repos/pyt...</td>\n",
       "      <td>/Users/danielcorcoran/desktop/github_repos/pyt...</td>\n",
       "      <td>46821.0</td>\n",
       "      <td>0.046821</td>\n",
       "      <td>5.5</td>\n",
       "    </tr>\n",
       "    <tr>\n",
       "      <th>4</th>\n",
       "      <td>/Users/danielcorcoran/desktop/github_repos/pyt...</td>\n",
       "      <td>/Users/danielcorcoran/desktop/github_repos/pyt...</td>\n",
       "      <td>42374.0</td>\n",
       "      <td>0.042374</td>\n",
       "      <td>5.5</td>\n",
       "    </tr>\n",
       "  </tbody>\n",
       "</table>\n",
       "</div>"
      ],
      "text/plain": [
       "                                       absolute_path  \\\n",
       "0  /Users/danielcorcoran/desktop/github_repos/pyt...   \n",
       "1  /Users/danielcorcoran/desktop/github_repos/pyt...   \n",
       "2  /Users/danielcorcoran/desktop/github_repos/pyt...   \n",
       "3  /Users/danielcorcoran/desktop/github_repos/pyt...   \n",
       "4  /Users/danielcorcoran/desktop/github_repos/pyt...   \n",
       "\n",
       "                                              source  size_bytes  \\\n",
       "0  /Users/danielcorcoran/desktop/github_repos/pyt...        67.0   \n",
       "1  /Users/danielcorcoran/desktop/github_repos/pyt...     27164.0   \n",
       "2  /Users/danielcorcoran/desktop/github_repos/pyt...    192585.0   \n",
       "3  /Users/danielcorcoran/desktop/github_repos/pyt...     46821.0   \n",
       "4  /Users/danielcorcoran/desktop/github_repos/pyt...     42374.0   \n",
       "\n",
       "   size_megabytes  node_size  \n",
       "0        0.000067        5.5  \n",
       "1        0.027164        5.5  \n",
       "2        0.192585        5.5  \n",
       "3        0.046821        5.5  \n",
       "4        0.042374        5.5  "
      ]
     },
     "execution_count": 13,
     "metadata": {},
     "output_type": "execute_result"
    }
   ],
   "source": [
    "for index in range(data.shape[0]):\n",
    "    \n",
    "    item = data.loc[index, \"size_megabytes\"]\n",
    "    \n",
    "    node_size = get_size_bracket(item, base_size)\n",
    "    \n",
    "    data.loc[index, \"node_size\"] = node_size\n",
    "\n",
    "data.head(5)"
   ]
  },
  {
   "cell_type": "markdown",
   "metadata": {},
   "source": [
    "### Create groups based on file type (optional)\n",
    "- These will be used to colour code the nodes in `nodes_list`"
   ]
  },
  {
   "cell_type": "code",
   "execution_count": 14,
   "metadata": {},
   "outputs": [],
   "source": [
    "for index in range(data.shape[0]):\n",
    "    \n",
    "    absolute_path = data.loc[index, \"absolute_path\"]\n",
    "    \n",
    "    last_item = absolute_path.split(\"/\")[-1] \n",
    "    \n",
    "    if \".\" in last_item:\n",
    "        data.loc[index, \"file_extension\"] = \".\" + last_item.split(\".\")[-1]\n",
    "    else:\n",
    "        data.loc[index, \"file_extension\"] = \"folder\""
   ]
  },
  {
   "cell_type": "code",
   "execution_count": 15,
   "metadata": {},
   "outputs": [
    {
     "data": {
      "text/plain": [
       "['folder',\n",
       " '.ipynb_checkpoints',\n",
       " '.git',\n",
       " '.ipynb',\n",
       " '.DS_Store',\n",
       " '.md',\n",
       " '.gitignore',\n",
       " '.py',\n",
       " '.sample',\n",
       " '.xlsx']"
      ]
     },
     "execution_count": 15,
     "metadata": {},
     "output_type": "execute_result"
    }
   ],
   "source": [
    "unique_extensions = list(data[\"file_extension\"].unique())\n",
    "unique_extensions"
   ]
  },
  {
   "cell_type": "markdown",
   "metadata": {},
   "source": [
    "### Create a list containing only destinations, this will be used to build the nodes list as part of the main dictionary"
   ]
  },
  {
   "cell_type": "code",
   "execution_count": 16,
   "metadata": {},
   "outputs": [
    {
     "data": {
      "text/plain": [
       "['/Users/danielcorcoran/desktop/github_repos/python_nb_data/scripts',\n",
       " '/Users/danielcorcoran/desktop/github_repos/python_nb_data/.ipynb_checkpoints',\n",
       " '/Users/danielcorcoran/desktop/github_repos/python_nb_data/.git',\n",
       " '/Users/danielcorcoran/desktop/github_repos/python_nb_data/data',\n",
       " '/Users/danielcorcoran/desktop/github_repos/python_nb_data/notebook_compare_tables_numerics.ipynb',\n",
       " '/Users/danielcorcoran/desktop/github_repos/python_nb_data/notebook_append_lga_codes_revised.ipynb',\n",
       " '/Users/danielcorcoran/desktop/github_repos/python_nb_data/.DS_Store',\n",
       " '/Users/danielcorcoran/desktop/github_repos/python_nb_data/notebook_pandas_excel_parse.ipynb',\n",
       " '/Users/danielcorcoran/desktop/github_repos/python_nb_data/notebook_backup_to_desktop.ipynb',\n",
       " '/Users/danielcorcoran/desktop/github_repos/python_nb_data/notebook_standardizing_data.ipynb',\n",
       " '/Users/danielcorcoran/desktop/github_repos/python_nb_data/notebook_unpivot_partnerships_full.ipynb',\n",
       " '/Users/danielcorcoran/desktop/github_repos/python_nb_data/notebook_lists_in_python.ipynb',\n",
       " '/Users/danielcorcoran/desktop/github_repos/python_nb_data/notebook_dealing_with_nulls.ipynb',\n",
       " '/Users/danielcorcoran/desktop/github_repos/python_nb_data/README.md',\n",
       " '/Users/danielcorcoran/desktop/github_repos/python_nb_data/.gitignore',\n",
       " '/Users/danielcorcoran/desktop/github_repos/python_nb_data/notebook_pandas_nulls.ipynb',\n",
       " '/Users/danielcorcoran/desktop/github_repos/python_nb_data/notebook_str.ipynb',\n",
       " '/Users/danielcorcoran/desktop/github_repos/python_nb_data/notebook_validate_distinct_tables.ipynb',\n",
       " '/Users/danielcorcoran/desktop/github_repos/python_nb_data/notebook_test_game.ipynb',\n",
       " '/Users/danielcorcoran/desktop/github_repos/python_nb_data/notebook_pull_from_postgres.ipynb',\n",
       " '/Users/danielcorcoran/desktop/github_repos/python_nb_data/notebook_append_lga_codes.ipynb',\n",
       " '/Users/danielcorcoran/desktop/github_repos/python_nb_data/notebook_pydata_seattle_2017.ipynb',\n",
       " '/Users/danielcorcoran/desktop/github_repos/python_nb_data/notebook_import_from_path.ipynb',\n",
       " '/Users/danielcorcoran/desktop/github_repos/python_nb_data/scripts/test.py',\n",
       " '/Users/danielcorcoran/desktop/github_repos/python_nb_data/.ipynb_checkpoints/notebook_append_lga_codes-checkpoint.ipynb',\n",
       " '/Users/danielcorcoran/desktop/github_repos/python_nb_data/.ipynb_checkpoints/notebook_backup_to_desktop-checkpoint.ipynb',\n",
       " '/Users/danielcorcoran/desktop/github_repos/python_nb_data/.ipynb_checkpoints/notebook_append_lga_codes_revised-checkpoint.ipynb',\n",
       " '/Users/danielcorcoran/desktop/github_repos/python_nb_data/.git/objects',\n",
       " '/Users/danielcorcoran/desktop/github_repos/python_nb_data/.git/info',\n",
       " '/Users/danielcorcoran/desktop/github_repos/python_nb_data/.git/logs',\n",
       " '/Users/danielcorcoran/desktop/github_repos/python_nb_data/.git/hooks',\n",
       " '/Users/danielcorcoran/desktop/github_repos/python_nb_data/.git/refs',\n",
       " '/Users/danielcorcoran/desktop/github_repos/python_nb_data/.git/ORIG_HEAD',\n",
       " '/Users/danielcorcoran/desktop/github_repos/python_nb_data/.git/config',\n",
       " '/Users/danielcorcoran/desktop/github_repos/python_nb_data/.git/HEAD',\n",
       " '/Users/danielcorcoran/desktop/github_repos/python_nb_data/.git/description',\n",
       " '/Users/danielcorcoran/desktop/github_repos/python_nb_data/.git/index',\n",
       " '/Users/danielcorcoran/desktop/github_repos/python_nb_data/.git/packed-refs',\n",
       " '/Users/danielcorcoran/desktop/github_repos/python_nb_data/.git/COMMIT_EDITMSG',\n",
       " '/Users/danielcorcoran/desktop/github_repos/python_nb_data/.git/objects/92',\n",
       " '/Users/danielcorcoran/desktop/github_repos/python_nb_data/.git/objects/3e',\n",
       " '/Users/danielcorcoran/desktop/github_repos/python_nb_data/.git/objects/9e',\n",
       " '/Users/danielcorcoran/desktop/github_repos/python_nb_data/.git/objects/35',\n",
       " '/Users/danielcorcoran/desktop/github_repos/python_nb_data/.git/objects/69',\n",
       " '/Users/danielcorcoran/desktop/github_repos/python_nb_data/.git/objects/60',\n",
       " '/Users/danielcorcoran/desktop/github_repos/python_nb_data/.git/objects/9d',\n",
       " '/Users/danielcorcoran/desktop/github_repos/python_nb_data/.git/objects/9c',\n",
       " '/Users/danielcorcoran/desktop/github_repos/python_nb_data/.git/objects/a3',\n",
       " '/Users/danielcorcoran/desktop/github_repos/python_nb_data/.git/objects/b5',\n",
       " '/Users/danielcorcoran/desktop/github_repos/python_nb_data/.git/objects/ac',\n",
       " '/Users/danielcorcoran/desktop/github_repos/python_nb_data/.git/objects/da',\n",
       " '/Users/danielcorcoran/desktop/github_repos/python_nb_data/.git/objects/d6',\n",
       " '/Users/danielcorcoran/desktop/github_repos/python_nb_data/.git/objects/e2',\n",
       " '/Users/danielcorcoran/desktop/github_repos/python_nb_data/.git/objects/eb',\n",
       " '/Users/danielcorcoran/desktop/github_repos/python_nb_data/.git/objects/c0',\n",
       " '/Users/danielcorcoran/desktop/github_repos/python_nb_data/.git/objects/f2',\n",
       " '/Users/danielcorcoran/desktop/github_repos/python_nb_data/.git/objects/f5',\n",
       " '/Users/danielcorcoran/desktop/github_repos/python_nb_data/.git/objects/ed',\n",
       " '/Users/danielcorcoran/desktop/github_repos/python_nb_data/.git/objects/pack',\n",
       " '/Users/danielcorcoran/desktop/github_repos/python_nb_data/.git/objects/7b',\n",
       " '/Users/danielcorcoran/desktop/github_repos/python_nb_data/.git/objects/75',\n",
       " '/Users/danielcorcoran/desktop/github_repos/python_nb_data/.git/objects/81',\n",
       " '/Users/danielcorcoran/desktop/github_repos/python_nb_data/.git/objects/2a',\n",
       " '/Users/danielcorcoran/desktop/github_repos/python_nb_data/.git/objects/9a',\n",
       " '/Users/danielcorcoran/desktop/github_repos/python_nb_data/.git/objects/36',\n",
       " '/Users/danielcorcoran/desktop/github_repos/python_nb_data/.git/objects/info',\n",
       " '/Users/danielcorcoran/desktop/github_repos/python_nb_data/.git/objects/65',\n",
       " '/Users/danielcorcoran/desktop/github_repos/python_nb_data/.git/objects/3a',\n",
       " '/Users/danielcorcoran/desktop/github_repos/python_nb_data/.git/objects/53',\n",
       " '/Users/danielcorcoran/desktop/github_repos/python_nb_data/.git/objects/3f',\n",
       " '/Users/danielcorcoran/desktop/github_repos/python_nb_data/.git/objects/30',\n",
       " '/Users/danielcorcoran/desktop/github_repos/python_nb_data/.git/objects/6d',\n",
       " '/Users/danielcorcoran/desktop/github_repos/python_nb_data/.git/objects/ba',\n",
       " '/Users/danielcorcoran/desktop/github_repos/python_nb_data/.git/objects/b8',\n",
       " '/Users/danielcorcoran/desktop/github_repos/python_nb_data/.git/objects/dc',\n",
       " '/Users/danielcorcoran/desktop/github_repos/python_nb_data/.git/objects/af',\n",
       " '/Users/danielcorcoran/desktop/github_repos/python_nb_data/.git/objects/db',\n",
       " '/Users/danielcorcoran/desktop/github_repos/python_nb_data/.git/objects/ea',\n",
       " '/Users/danielcorcoran/desktop/github_repos/python_nb_data/.git/objects/f1',\n",
       " '/Users/danielcorcoran/desktop/github_repos/python_nb_data/.git/objects/f8',\n",
       " '/Users/danielcorcoran/desktop/github_repos/python_nb_data/.git/objects/46',\n",
       " '/Users/danielcorcoran/desktop/github_repos/python_nb_data/.git/objects/71',\n",
       " '/Users/danielcorcoran/desktop/github_repos/python_nb_data/.git/objects/1c',\n",
       " '/Users/danielcorcoran/desktop/github_repos/python_nb_data/.git/objects/13',\n",
       " '/Users/danielcorcoran/desktop/github_repos/python_nb_data/.git/objects/7a',\n",
       " '/Users/danielcorcoran/desktop/github_repos/python_nb_data/.git/objects/8e',\n",
       " '/Users/danielcorcoran/desktop/github_repos/python_nb_data/.git/objects/22',\n",
       " '/Users/danielcorcoran/desktop/github_repos/python_nb_data/.git/objects/25',\n",
       " '/Users/danielcorcoran/desktop/github_repos/python_nb_data/.git/objects/92/c6e9400b3535775e05c3077b404f93a19ca0ad',\n",
       " '/Users/danielcorcoran/desktop/github_repos/python_nb_data/.git/objects/3e/3a689c46a167420d149217ed96f92d2b4e2a09',\n",
       " '/Users/danielcorcoran/desktop/github_repos/python_nb_data/.git/objects/9e/4cb880f575ccb3a4aafa03a6e17c7636391c55',\n",
       " '/Users/danielcorcoran/desktop/github_repos/python_nb_data/.git/objects/35/eea3f41bb3d1c85babe37ad7b0c15bbaeeeaa8',\n",
       " '/Users/danielcorcoran/desktop/github_repos/python_nb_data/.git/objects/69/02eddec1d8b9a03acb267742b23d7889a73ebf',\n",
       " '/Users/danielcorcoran/desktop/github_repos/python_nb_data/.git/objects/60/fdfdc048e38fe1c9dceb7b89b187d268e7747f',\n",
       " '/Users/danielcorcoran/desktop/github_repos/python_nb_data/.git/objects/9d/2e8762122a0693a998dfcce56a853d19d26744',\n",
       " '/Users/danielcorcoran/desktop/github_repos/python_nb_data/.git/objects/9c/c940c564c2450fe85f245b376d2fe068c2ccb1',\n",
       " '/Users/danielcorcoran/desktop/github_repos/python_nb_data/.git/objects/a3/df0da7d03bd0cc177d70e4ab7e489ec3d774a8',\n",
       " '/Users/danielcorcoran/desktop/github_repos/python_nb_data/.git/objects/b5/057d703e8457640b66329babaae7dbac46d0aa',\n",
       " '/Users/danielcorcoran/desktop/github_repos/python_nb_data/.git/objects/ac/9cdf9bdb1911ab8489e4604e286632c11de9f6',\n",
       " '/Users/danielcorcoran/desktop/github_repos/python_nb_data/.git/objects/da/dd769ca30c19370c27e1f8ecd08ff16e1525a0',\n",
       " '/Users/danielcorcoran/desktop/github_repos/python_nb_data/.git/objects/da/78add176c5c0694a6577ae3049b78db4911a00',\n",
       " '/Users/danielcorcoran/desktop/github_repos/python_nb_data/.git/objects/d6/0f1428c8d2db54995a00aa6d03a0aff2c440a9',\n",
       " '/Users/danielcorcoran/desktop/github_repos/python_nb_data/.git/objects/e2/86e720eeaec653038669ef8783a086aa13a2cb',\n",
       " '/Users/danielcorcoran/desktop/github_repos/python_nb_data/.git/objects/eb/858fcb40fb4b05618a02520c9b9ceac5cdcbd1',\n",
       " '/Users/danielcorcoran/desktop/github_repos/python_nb_data/.git/objects/c0/0c85b9d8f4d611bec486d9710aa1c93cbfc349',\n",
       " '/Users/danielcorcoran/desktop/github_repos/python_nb_data/.git/objects/c0/404c8050d53223cd2df8f2c94725ed24df44ab',\n",
       " '/Users/danielcorcoran/desktop/github_repos/python_nb_data/.git/objects/f2/3a0c077f717a4a6207525f74c43f2c64bce140',\n",
       " '/Users/danielcorcoran/desktop/github_repos/python_nb_data/.git/objects/f5/59694dab2ef65c49bed892bea6ec25f09e63d0',\n",
       " '/Users/danielcorcoran/desktop/github_repos/python_nb_data/.git/objects/ed/d8725f582b092dff7978c2db6fe180d9d94aae',\n",
       " '/Users/danielcorcoran/desktop/github_repos/python_nb_data/.git/objects/7b/9dbe22f732562fe5088f0cf627291e3e17f3d6',\n",
       " '/Users/danielcorcoran/desktop/github_repos/python_nb_data/.git/objects/75/c376b18a5eb5403168cf09eb023ef38481436a',\n",
       " '/Users/danielcorcoran/desktop/github_repos/python_nb_data/.git/objects/81/f315bff79c49985397e63d00e8999414b00fd7',\n",
       " '/Users/danielcorcoran/desktop/github_repos/python_nb_data/.git/objects/2a/cd67196ba6bd14e6901203b0310d287ed8e328',\n",
       " '/Users/danielcorcoran/desktop/github_repos/python_nb_data/.git/objects/9a/27eeba884c070cee676913b7e591e661aafd6a',\n",
       " '/Users/danielcorcoran/desktop/github_repos/python_nb_data/.git/objects/36/367eed7c75aa758aa2908ee8eef436f8547d52',\n",
       " '/Users/danielcorcoran/desktop/github_repos/python_nb_data/.git/objects/65/66e81cdf452523f6372972e49c9be9381198a5',\n",
       " '/Users/danielcorcoran/desktop/github_repos/python_nb_data/.git/objects/3a/3199100d16ba721bd94fe0caec1d58af055ede',\n",
       " '/Users/danielcorcoran/desktop/github_repos/python_nb_data/.git/objects/53/0909d2d8e3d5bf905ba2f3559fbf9b0e38ad64',\n",
       " '/Users/danielcorcoran/desktop/github_repos/python_nb_data/.git/objects/3f/1e37cf05ee756f6328802098b48a79cc53f404',\n",
       " '/Users/danielcorcoran/desktop/github_repos/python_nb_data/.git/objects/30/a196db6f10f7f8a097173ff9de48fb43f4bfc2',\n",
       " '/Users/danielcorcoran/desktop/github_repos/python_nb_data/.git/objects/6d/856dd025459a45c14326a38f2fbb55808b676c',\n",
       " '/Users/danielcorcoran/desktop/github_repos/python_nb_data/.git/objects/6d/308ba8d4107ba93ac801ed01fbb2fe82211166',\n",
       " '/Users/danielcorcoran/desktop/github_repos/python_nb_data/.git/objects/ba/ebee7629dd83ebefd21c4343714f059515eedf',\n",
       " '/Users/danielcorcoran/desktop/github_repos/python_nb_data/.git/objects/ba/c6cfae29dad8cbf507cd64f9cc65122fbb45bd',\n",
       " '/Users/danielcorcoran/desktop/github_repos/python_nb_data/.git/objects/b8/f49a2c1773fb7125def32fc20ed548758531dd',\n",
       " '/Users/danielcorcoran/desktop/github_repos/python_nb_data/.git/objects/dc/8235e0bc58a77e8d8f6aeeb31a51624ef027bc',\n",
       " '/Users/danielcorcoran/desktop/github_repos/python_nb_data/.git/objects/af/e823b82f653407e6db77bfbc45447086c031b3',\n",
       " '/Users/danielcorcoran/desktop/github_repos/python_nb_data/.git/objects/db/c7cf541f7578f6ca19496cf27ef0cdd55d6fe3',\n",
       " '/Users/danielcorcoran/desktop/github_repos/python_nb_data/.git/objects/ea/f1d0c11df691bf248c504057a079c244572bf7',\n",
       " '/Users/danielcorcoran/desktop/github_repos/python_nb_data/.git/objects/f1/0dd2e5d93c1f7feabe19aebd938b612081d1f0',\n",
       " '/Users/danielcorcoran/desktop/github_repos/python_nb_data/.git/objects/f8/0cbe34ab440952371faf700b6dfd403d2f4cba',\n",
       " '/Users/danielcorcoran/desktop/github_repos/python_nb_data/.git/objects/46/10e86fa2a72644317aa0bb69acd59b76da46e1',\n",
       " '/Users/danielcorcoran/desktop/github_repos/python_nb_data/.git/objects/71/b2f82e90c7753cf75c5adecd429e15e8fb450e',\n",
       " '/Users/danielcorcoran/desktop/github_repos/python_nb_data/.git/objects/1c/e577aebcc075896f715eea9710efcd0ac5beff',\n",
       " '/Users/danielcorcoran/desktop/github_repos/python_nb_data/.git/objects/13/dcc61769f06b606802bf404a7665cb91b5c101',\n",
       " '/Users/danielcorcoran/desktop/github_repos/python_nb_data/.git/objects/13/4f212abd4bb2be3869591ee4abee618a291a9f',\n",
       " '/Users/danielcorcoran/desktop/github_repos/python_nb_data/.git/objects/7a/2bfa1bdd6eefa5432022d2f26777ac6a371c0e',\n",
       " '/Users/danielcorcoran/desktop/github_repos/python_nb_data/.git/objects/8e/96d7d472910742e5627db4b95f42098cb0c3f3',\n",
       " '/Users/danielcorcoran/desktop/github_repos/python_nb_data/.git/objects/22/56fb665b264b172f129aeefacc51f08b8b029d',\n",
       " '/Users/danielcorcoran/desktop/github_repos/python_nb_data/.git/objects/25/a4a099ac119ffab7e0d706f3573b793fb6945d',\n",
       " '/Users/danielcorcoran/desktop/github_repos/python_nb_data/.git/info/exclude',\n",
       " '/Users/danielcorcoran/desktop/github_repos/python_nb_data/.git/logs/refs',\n",
       " '/Users/danielcorcoran/desktop/github_repos/python_nb_data/.git/logs/HEAD',\n",
       " '/Users/danielcorcoran/desktop/github_repos/python_nb_data/.git/logs/refs/heads',\n",
       " '/Users/danielcorcoran/desktop/github_repos/python_nb_data/.git/logs/refs/remotes',\n",
       " '/Users/danielcorcoran/desktop/github_repos/python_nb_data/.git/logs/refs/heads/master',\n",
       " '/Users/danielcorcoran/desktop/github_repos/python_nb_data/.git/logs/refs/remotes/origin',\n",
       " '/Users/danielcorcoran/desktop/github_repos/python_nb_data/.git/logs/refs/remotes/origin/HEAD',\n",
       " '/Users/danielcorcoran/desktop/github_repos/python_nb_data/.git/logs/refs/remotes/origin/master',\n",
       " '/Users/danielcorcoran/desktop/github_repos/python_nb_data/.git/hooks/commit-msg.sample',\n",
       " '/Users/danielcorcoran/desktop/github_repos/python_nb_data/.git/hooks/pre-rebase.sample',\n",
       " '/Users/danielcorcoran/desktop/github_repos/python_nb_data/.git/hooks/pre-commit.sample',\n",
       " '/Users/danielcorcoran/desktop/github_repos/python_nb_data/.git/hooks/applypatch-msg.sample',\n",
       " '/Users/danielcorcoran/desktop/github_repos/python_nb_data/.git/hooks/pre-receive.sample',\n",
       " '/Users/danielcorcoran/desktop/github_repos/python_nb_data/.git/hooks/prepare-commit-msg.sample',\n",
       " '/Users/danielcorcoran/desktop/github_repos/python_nb_data/.git/hooks/post-update.sample',\n",
       " '/Users/danielcorcoran/desktop/github_repos/python_nb_data/.git/hooks/pre-applypatch.sample',\n",
       " '/Users/danielcorcoran/desktop/github_repos/python_nb_data/.git/hooks/pre-push.sample',\n",
       " '/Users/danielcorcoran/desktop/github_repos/python_nb_data/.git/hooks/update.sample',\n",
       " '/Users/danielcorcoran/desktop/github_repos/python_nb_data/.git/refs/heads',\n",
       " '/Users/danielcorcoran/desktop/github_repos/python_nb_data/.git/refs/tags',\n",
       " '/Users/danielcorcoran/desktop/github_repos/python_nb_data/.git/refs/remotes',\n",
       " '/Users/danielcorcoran/desktop/github_repos/python_nb_data/.git/refs/heads/master',\n",
       " '/Users/danielcorcoran/desktop/github_repos/python_nb_data/.git/refs/remotes/origin',\n",
       " '/Users/danielcorcoran/desktop/github_repos/python_nb_data/.git/refs/remotes/origin/HEAD',\n",
       " '/Users/danielcorcoran/desktop/github_repos/python_nb_data/.git/refs/remotes/origin/master',\n",
       " '/Users/danielcorcoran/desktop/github_repos/python_nb_data/data/test_join.xlsx',\n",
       " '/Users/danielcorcoran/desktop/github_repos/python_nb_data/data/test_validation_between_tables.xlsx',\n",
       " '/Users/danielcorcoran/desktop/github_repos/python_nb_data/data/test_melt.xlsx',\n",
       " '/Users/danielcorcoran/desktop/github_repos/python_nb_data/data/test_null.xlsx']"
      ]
     },
     "execution_count": 16,
     "metadata": {},
     "output_type": "execute_result"
    }
   ],
   "source": [
    "destination_list = list(data[\"absolute_path\"])\n",
    "destination_list"
   ]
  },
  {
   "cell_type": "code",
   "execution_count": 17,
   "metadata": {},
   "outputs": [],
   "source": [
    "destination_list.append(path)"
   ]
  },
  {
   "cell_type": "markdown",
   "metadata": {},
   "source": [
    "### Create the final dictionary"
   ]
  },
  {
   "cell_type": "markdown",
   "metadata": {},
   "source": [
    "#### Build `nodes_list`"
   ]
  },
  {
   "cell_type": "code",
   "execution_count": 18,
   "metadata": {},
   "outputs": [],
   "source": [
    "nodes_list = []\n",
    "\n",
    "for index in range(len(destination_list)):\n",
    "\n",
    "    if index == len(destination_list) - 1:\n",
    "        \n",
    "        group_index = 999999999999999999\n",
    "        \n",
    "        directory_size_bytes = get_directory_size(directory_path=path)\n",
    "        \n",
    "        directory_size_megabytes = directory_size_bytes / 1000000\n",
    "        \n",
    "        node_size = get_size_bracket(directory_size_megabytes, base_size)\n",
    "        \n",
    "        nodes_list.append({\"group\": group_index, \n",
    "                           \"name\": destination_list[index],\n",
    "                           \"size\" : node_size\n",
    "                          })\n",
    "        \n",
    "    else:\n",
    "        \n",
    "        if set_groups_to_file_types == True:\n",
    "            group_text = data.loc[index, \"file_extension\"]\n",
    "            group_index = unique_extensions.index(group_text)\n",
    "        \n",
    "        else:\n",
    "            group_index = 1\n",
    "\n",
    "    \n",
    "        node_size = data.loc[index, \"node_size\"]\n",
    "        nodes_list.append({\"group\": group_index, \n",
    "                           \"name\": destination_list[index],\n",
    "                           \"size\" : node_size\n",
    "                          })"
   ]
  },
  {
   "cell_type": "code",
   "execution_count": 19,
   "metadata": {},
   "outputs": [
    {
     "data": {
      "text/plain": [
       "[{'group': 0,\n",
       "  'name': '/Users/danielcorcoran/desktop/github_repos/python_nb_data/scripts',\n",
       "  'size': 5.5},\n",
       " {'group': 1,\n",
       "  'name': '/Users/danielcorcoran/desktop/github_repos/python_nb_data/.ipynb_checkpoints',\n",
       "  'size': 5.5},\n",
       " {'group': 2,\n",
       "  'name': '/Users/danielcorcoran/desktop/github_repos/python_nb_data/.git',\n",
       "  'size': 5.5}]"
      ]
     },
     "execution_count": 19,
     "metadata": {},
     "output_type": "execute_result"
    }
   ],
   "source": [
    "nodes_list[:3]"
   ]
  },
  {
   "cell_type": "markdown",
   "metadata": {},
   "source": [
    "#### Build `links_list`"
   ]
  },
  {
   "cell_type": "code",
   "execution_count": 20,
   "metadata": {},
   "outputs": [],
   "source": [
    "links_list = []"
   ]
  },
  {
   "cell_type": "code",
   "execution_count": 21,
   "metadata": {},
   "outputs": [
    {
     "name": "stdout",
     "output_type": "stream",
     "text": [
      "0  has failed, attempting alternative method\n",
      "1  has failed, attempting alternative method\n",
      "2  has failed, attempting alternative method\n",
      "3  has failed, attempting alternative method\n",
      "4  has failed, attempting alternative method\n",
      "5  has failed, attempting alternative method\n",
      "6  has failed, attempting alternative method\n",
      "7  has failed, attempting alternative method\n",
      "8  has failed, attempting alternative method\n",
      "9  has failed, attempting alternative method\n",
      "10  has failed, attempting alternative method\n",
      "11  has failed, attempting alternative method\n",
      "12  has failed, attempting alternative method\n",
      "13  has failed, attempting alternative method\n",
      "14  has failed, attempting alternative method\n",
      "15  has failed, attempting alternative method\n",
      "16  has failed, attempting alternative method\n",
      "17  has failed, attempting alternative method\n",
      "18  has failed, attempting alternative method\n",
      "19  has failed, attempting alternative method\n",
      "20  has failed, attempting alternative method\n",
      "21  has failed, attempting alternative method\n",
      "22  has failed, attempting alternative method\n"
     ]
    }
   ],
   "source": [
    "for index in range(data.shape[0]):\n",
    "\n",
    "    try:\n",
    "\n",
    "        target = index\n",
    "\n",
    "        source_text = data.loc[index, \"source\"]\n",
    "\n",
    "        source = destination_list.index(source_text)\n",
    "\n",
    "        links_list.append({\"source\": source, \"target\": target, \"value\": 1})\n",
    "    except:\n",
    "\n",
    "        print(index, ' has failed, attempting alternative method')\n",
    "\n",
    "        target = index\n",
    "\n",
    "        source = len(destination_list) - 1\n",
    "\n",
    "        links_list.append({\"source\": source, \"target\": target, \"value\": 1})"
   ]
  },
  {
   "cell_type": "markdown",
   "metadata": {},
   "source": [
    "## Process final data"
   ]
  },
  {
   "cell_type": "markdown",
   "metadata": {},
   "source": [
    "### Merge nodes and links lists into one dictionary"
   ]
  },
  {
   "cell_type": "code",
   "execution_count": 22,
   "metadata": {},
   "outputs": [],
   "source": [
    "json_data = {\"nodes\": nodes_list, \"links\": links_list}"
   ]
  },
  {
   "cell_type": "markdown",
   "metadata": {},
   "source": [
    "### Convert python dictionary to json string"
   ]
  },
  {
   "cell_type": "code",
   "execution_count": 23,
   "metadata": {},
   "outputs": [],
   "source": [
    "json_dump = json.dumps(json_data, indent=1, sort_keys=True)"
   ]
  },
  {
   "cell_type": "markdown",
   "metadata": {},
   "source": [
    "### Export to filename 'pcap_export.json' to be used in index.html"
   ]
  },
  {
   "cell_type": "code",
   "execution_count": 24,
   "metadata": {},
   "outputs": [],
   "source": [
    "json_out = open(export_path + \"pcap_export.json\", \"w\")\n",
    "json_out.write(json_dump)\n",
    "json_out.close()"
   ]
  }
 ],
 "metadata": {
  "kernelspec": {
   "display_name": "Python 3",
   "language": "python",
   "name": "python3"
  },
  "language_info": {
   "codemirror_mode": {
    "name": "ipython",
    "version": 3
   },
   "file_extension": ".py",
   "mimetype": "text/x-python",
   "name": "python",
   "nbconvert_exporter": "python",
   "pygments_lexer": "ipython3",
   "version": "3.6.5"
  },
  "toc": {
   "base_numbering": 1,
   "nav_menu": {},
   "number_sections": true,
   "sideBar": true,
   "skip_h1_title": false,
   "title_cell": "Table of Contents",
   "title_sidebar": "Contents",
   "toc_cell": false,
   "toc_position": {
    "height": "calc(100% - 180px)",
    "left": "10px",
    "top": "150px",
    "width": "350px"
   },
   "toc_section_display": true,
   "toc_window_display": true
  },
  "varInspector": {
   "cols": {
    "lenName": 16,
    "lenType": 16,
    "lenVar": 40
   },
   "kernels_config": {
    "python": {
     "delete_cmd_postfix": "",
     "delete_cmd_prefix": "del ",
     "library": "var_list.py",
     "varRefreshCmd": "print(var_dic_list())"
    },
    "r": {
     "delete_cmd_postfix": ") ",
     "delete_cmd_prefix": "rm(",
     "library": "var_list.r",
     "varRefreshCmd": "cat(var_dic_list()) "
    }
   },
   "types_to_exclude": [
    "module",
    "function",
    "builtin_function_or_method",
    "instance",
    "_Feature"
   ],
   "window_display": false
  }
 },
 "nbformat": 4,
 "nbformat_minor": 2
}
