{
 "cells": [
  {
   "cell_type": "markdown",
   "metadata": {},
   "source": [
    "# Visualize Database\n",
    "- Following thread \"http://www.austintaylor.io/d3/python/pandas/2016/02/01/create-d3-chart-python-force-directed/\"\n",
    "- Attempting to visualize the dvdrentals sample postgres database"
   ]
  },
  {
   "cell_type": "markdown",
   "metadata": {},
   "source": [
    "## The Network Structure\n",
    "- A dictionary with two lists, nodes and links.\n",
    "- links contains the relationships between nodes\n",
    "- nodes contains each individual node"
   ]
  },
  {
   "cell_type": "markdown",
   "metadata": {},
   "source": [
    "```json\n",
    "{\n",
    "  \"nodes\":  [\n",
    "    { \"name\": \"desktop\", \"group\":  1},\n",
    "    { \"name\": \"desktop/apples.txt\", \"group\":  1},\n",
    "    { \"name\": \"desktop/pineapple/apples.txt\", \"group\":  1},\n",
    "    { \"name\": \"desktop/bananas.txt\", \"group\":  1}\n",
    "  ],\n",
    "\n",
    "  \"links\":  [\n",
    "    { \"source\":  1,  \"target\":  0,  \"value\":  5555 },\n",
    "    { \"source\":  2,  \"target\":  0,  \"value\":  1 },\n",
    "    { \"source\":  3,  \"target\":  0,  \"value\": 1 }\n",
    "  ]\n",
    "}\n",
    "```"
   ]
  },
  {
   "cell_type": "markdown",
   "metadata": {},
   "source": [
    "## Setup"
   ]
  },
  {
   "cell_type": "markdown",
   "metadata": {},
   "source": [
    "### Modules"
   ]
  },
  {
   "cell_type": "code",
   "execution_count": 1,
   "metadata": {},
   "outputs": [
    {
     "name": "stderr",
     "output_type": "stream",
     "text": [
      "/Library/Frameworks/Python.framework/Versions/3.6/lib/python3.6/site-packages/psycopg2/__init__.py:144: UserWarning: The psycopg2 wheel package will be renamed from release 2.8; in order to keep installing from binary please use \"pip install psycopg2-binary\" instead. For details see: <http://initd.org/psycopg/docs/install.html#binary-install-from-pypi>.\n",
      "  \"\"\")\n"
     ]
    }
   ],
   "source": [
    "import os\n",
    "import pandas\n",
    "import json\n",
    "import psycopg2"
   ]
  },
  {
   "cell_type": "markdown",
   "metadata": {},
   "source": [
    "### Postgres SQL code generating the csv below"
   ]
  },
  {
   "cell_type": "markdown",
   "metadata": {},
   "source": [
    "```SQL\n",
    "\n",
    "-- Drop table if it exists\n",
    "\n",
    "DROP TABLE\n",
    "\ttest_data\n",
    "\n",
    "-- Create new table containing column and table information from dvdrentals database\n",
    "\n",
    "SELECT \n",
    "\t*\n",
    "INTO \n",
    "\ttest_data \n",
    "FROM (\n",
    "SELECT\n",
    "\ttable_schema,\n",
    "\ttable_name,\n",
    "\tcolumn_name\n",
    "FROM\n",
    "\tinformation_schema.columns\n",
    "WHERE\n",
    "\ttable_schema = 'public' AND\n",
    "\ttable_name IN ('actor','address','category','city','country',\n",
    "\t\t\t\t   'customer','film','film_actor','film_category','inventory',\n",
    "\t\t\t\t   'language','payment','rental','staff','store')\n",
    ") AS subset\n",
    "\n",
    "-- Export to disk\n",
    "COPY\n",
    "\t(SELECT * FROM test_data)\n",
    "TO\n",
    "\t'/users/danielcorcoran/desktop/github_repos/python_nb_networks/raw data/dvdrentals_column_data.csv'\n",
    "DELIMITER\n",
    "\t','\n",
    "CSV HEADER\n",
    "\n",
    "```"
   ]
  },
  {
   "cell_type": "markdown",
   "metadata": {},
   "source": [
    "### Data File Path "
   ]
  },
  {
   "cell_type": "code",
   "execution_count": 2,
   "metadata": {},
   "outputs": [],
   "source": [
    "data_path = \"/users/danielcorcoran/desktop/github_repos/python_nb_networks/raw data/dvdrentals_column_data.csv\""
   ]
  },
  {
   "cell_type": "markdown",
   "metadata": {},
   "source": [
    "### Read in data, add columns"
   ]
  },
  {
   "cell_type": "code",
   "execution_count": 3,
   "metadata": {},
   "outputs": [],
   "source": [
    "raw_data = pandas.read_csv(data_path)"
   ]
  },
  {
   "cell_type": "code",
   "execution_count": 4,
   "metadata": {},
   "outputs": [
    {
     "data": {
      "text/html": [
       "<div>\n",
       "<style scoped>\n",
       "    .dataframe tbody tr th:only-of-type {\n",
       "        vertical-align: middle;\n",
       "    }\n",
       "\n",
       "    .dataframe tbody tr th {\n",
       "        vertical-align: top;\n",
       "    }\n",
       "\n",
       "    .dataframe thead th {\n",
       "        text-align: right;\n",
       "    }\n",
       "</style>\n",
       "<table border=\"1\" class=\"dataframe\">\n",
       "  <thead>\n",
       "    <tr style=\"text-align: right;\">\n",
       "      <th></th>\n",
       "      <th>table_schema</th>\n",
       "      <th>table_name</th>\n",
       "      <th>column_name</th>\n",
       "    </tr>\n",
       "  </thead>\n",
       "  <tbody>\n",
       "    <tr>\n",
       "      <th>0</th>\n",
       "      <td>public</td>\n",
       "      <td>staff</td>\n",
       "      <td>staff_id</td>\n",
       "    </tr>\n",
       "    <tr>\n",
       "      <th>1</th>\n",
       "      <td>public</td>\n",
       "      <td>staff</td>\n",
       "      <td>first_name</td>\n",
       "    </tr>\n",
       "    <tr>\n",
       "      <th>2</th>\n",
       "      <td>public</td>\n",
       "      <td>staff</td>\n",
       "      <td>last_name</td>\n",
       "    </tr>\n",
       "    <tr>\n",
       "      <th>3</th>\n",
       "      <td>public</td>\n",
       "      <td>staff</td>\n",
       "      <td>address_id</td>\n",
       "    </tr>\n",
       "    <tr>\n",
       "      <th>4</th>\n",
       "      <td>public</td>\n",
       "      <td>staff</td>\n",
       "      <td>email</td>\n",
       "    </tr>\n",
       "  </tbody>\n",
       "</table>\n",
       "</div>"
      ],
      "text/plain": [
       "  table_schema table_name column_name\n",
       "0       public      staff    staff_id\n",
       "1       public      staff  first_name\n",
       "2       public      staff   last_name\n",
       "3       public      staff  address_id\n",
       "4       public      staff       email"
      ]
     },
     "execution_count": 4,
     "metadata": {},
     "output_type": "execute_result"
    }
   ],
   "source": [
    "raw_data.head()"
   ]
  },
  {
   "cell_type": "markdown",
   "metadata": {},
   "source": [
    "## Manipulate raw data into desired format"
   ]
  },
  {
   "cell_type": "markdown",
   "metadata": {},
   "source": [
    "### Union"
   ]
  },
  {
   "cell_type": "code",
   "execution_count": 5,
   "metadata": {},
   "outputs": [],
   "source": [
    "subset1 = raw_data[[\"table_schema\", \"table_name\"]]\n",
    "subset2 = raw_data[[\"table_name\", \"column_name\"]]"
   ]
  },
  {
   "cell_type": "code",
   "execution_count": 6,
   "metadata": {},
   "outputs": [
    {
     "data": {
      "text/html": [
       "<div>\n",
       "<style scoped>\n",
       "    .dataframe tbody tr th:only-of-type {\n",
       "        vertical-align: middle;\n",
       "    }\n",
       "\n",
       "    .dataframe tbody tr th {\n",
       "        vertical-align: top;\n",
       "    }\n",
       "\n",
       "    .dataframe thead th {\n",
       "        text-align: right;\n",
       "    }\n",
       "</style>\n",
       "<table border=\"1\" class=\"dataframe\">\n",
       "  <thead>\n",
       "    <tr style=\"text-align: right;\">\n",
       "      <th></th>\n",
       "      <th>table_schema</th>\n",
       "      <th>table_name</th>\n",
       "    </tr>\n",
       "  </thead>\n",
       "  <tbody>\n",
       "    <tr>\n",
       "      <th>0</th>\n",
       "      <td>public</td>\n",
       "      <td>staff</td>\n",
       "    </tr>\n",
       "    <tr>\n",
       "      <th>1</th>\n",
       "      <td>public</td>\n",
       "      <td>staff</td>\n",
       "    </tr>\n",
       "    <tr>\n",
       "      <th>2</th>\n",
       "      <td>public</td>\n",
       "      <td>staff</td>\n",
       "    </tr>\n",
       "    <tr>\n",
       "      <th>3</th>\n",
       "      <td>public</td>\n",
       "      <td>staff</td>\n",
       "    </tr>\n",
       "    <tr>\n",
       "      <th>4</th>\n",
       "      <td>public</td>\n",
       "      <td>staff</td>\n",
       "    </tr>\n",
       "  </tbody>\n",
       "</table>\n",
       "</div>"
      ],
      "text/plain": [
       "  table_schema table_name\n",
       "0       public      staff\n",
       "1       public      staff\n",
       "2       public      staff\n",
       "3       public      staff\n",
       "4       public      staff"
      ]
     },
     "execution_count": 6,
     "metadata": {},
     "output_type": "execute_result"
    }
   ],
   "source": [
    "subset1.head()"
   ]
  },
  {
   "cell_type": "code",
   "execution_count": 7,
   "metadata": {},
   "outputs": [
    {
     "data": {
      "text/html": [
       "<div>\n",
       "<style scoped>\n",
       "    .dataframe tbody tr th:only-of-type {\n",
       "        vertical-align: middle;\n",
       "    }\n",
       "\n",
       "    .dataframe tbody tr th {\n",
       "        vertical-align: top;\n",
       "    }\n",
       "\n",
       "    .dataframe thead th {\n",
       "        text-align: right;\n",
       "    }\n",
       "</style>\n",
       "<table border=\"1\" class=\"dataframe\">\n",
       "  <thead>\n",
       "    <tr style=\"text-align: right;\">\n",
       "      <th></th>\n",
       "      <th>table_name</th>\n",
       "      <th>column_name</th>\n",
       "    </tr>\n",
       "  </thead>\n",
       "  <tbody>\n",
       "    <tr>\n",
       "      <th>0</th>\n",
       "      <td>staff</td>\n",
       "      <td>staff_id</td>\n",
       "    </tr>\n",
       "    <tr>\n",
       "      <th>1</th>\n",
       "      <td>staff</td>\n",
       "      <td>first_name</td>\n",
       "    </tr>\n",
       "    <tr>\n",
       "      <th>2</th>\n",
       "      <td>staff</td>\n",
       "      <td>last_name</td>\n",
       "    </tr>\n",
       "    <tr>\n",
       "      <th>3</th>\n",
       "      <td>staff</td>\n",
       "      <td>address_id</td>\n",
       "    </tr>\n",
       "    <tr>\n",
       "      <th>4</th>\n",
       "      <td>staff</td>\n",
       "      <td>email</td>\n",
       "    </tr>\n",
       "  </tbody>\n",
       "</table>\n",
       "</div>"
      ],
      "text/plain": [
       "  table_name column_name\n",
       "0      staff    staff_id\n",
       "1      staff  first_name\n",
       "2      staff   last_name\n",
       "3      staff  address_id\n",
       "4      staff       email"
      ]
     },
     "execution_count": 7,
     "metadata": {},
     "output_type": "execute_result"
    }
   ],
   "source": [
    "subset2.head()"
   ]
  },
  {
   "cell_type": "code",
   "execution_count": 8,
   "metadata": {},
   "outputs": [],
   "source": [
    "subset1.columns = [\"source\", \"target\"]\n",
    "subset2.columns = [\"source\", \"target\"]"
   ]
  },
  {
   "cell_type": "code",
   "execution_count": 9,
   "metadata": {},
   "outputs": [],
   "source": [
    "subset1[\"structure\"] = \"table\"\n",
    "subset2[\"structure\"] = \"column\"\n",
    "\n",
    "# subset1[\"colour_code\"] = \"#4ABBDB\"\n",
    "# subset2[\"colour_code\"] = \"#FFAA00\"\n",
    "\n",
    "subset1[\"node_size\"] = 6\n",
    "subset2[\"node_size\"] = 4"
   ]
  },
  {
   "cell_type": "code",
   "execution_count": 10,
   "metadata": {},
   "outputs": [],
   "source": [
    "data = pandas.concat([subset1, subset2], axis = 0)"
   ]
  },
  {
   "cell_type": "code",
   "execution_count": 11,
   "metadata": {},
   "outputs": [
    {
     "data": {
      "text/html": [
       "<div>\n",
       "<style scoped>\n",
       "    .dataframe tbody tr th:only-of-type {\n",
       "        vertical-align: middle;\n",
       "    }\n",
       "\n",
       "    .dataframe tbody tr th {\n",
       "        vertical-align: top;\n",
       "    }\n",
       "\n",
       "    .dataframe thead th {\n",
       "        text-align: right;\n",
       "    }\n",
       "</style>\n",
       "<table border=\"1\" class=\"dataframe\">\n",
       "  <thead>\n",
       "    <tr style=\"text-align: right;\">\n",
       "      <th></th>\n",
       "      <th>source</th>\n",
       "      <th>target</th>\n",
       "      <th>structure</th>\n",
       "      <th>node_size</th>\n",
       "    </tr>\n",
       "  </thead>\n",
       "  <tbody>\n",
       "    <tr>\n",
       "      <th>0</th>\n",
       "      <td>public</td>\n",
       "      <td>staff</td>\n",
       "      <td>table</td>\n",
       "      <td>6</td>\n",
       "    </tr>\n",
       "    <tr>\n",
       "      <th>1</th>\n",
       "      <td>public</td>\n",
       "      <td>staff</td>\n",
       "      <td>table</td>\n",
       "      <td>6</td>\n",
       "    </tr>\n",
       "    <tr>\n",
       "      <th>2</th>\n",
       "      <td>public</td>\n",
       "      <td>staff</td>\n",
       "      <td>table</td>\n",
       "      <td>6</td>\n",
       "    </tr>\n",
       "    <tr>\n",
       "      <th>3</th>\n",
       "      <td>public</td>\n",
       "      <td>staff</td>\n",
       "      <td>table</td>\n",
       "      <td>6</td>\n",
       "    </tr>\n",
       "    <tr>\n",
       "      <th>4</th>\n",
       "      <td>public</td>\n",
       "      <td>staff</td>\n",
       "      <td>table</td>\n",
       "      <td>6</td>\n",
       "    </tr>\n",
       "  </tbody>\n",
       "</table>\n",
       "</div>"
      ],
      "text/plain": [
       "   source target structure  node_size\n",
       "0  public  staff     table          6\n",
       "1  public  staff     table          6\n",
       "2  public  staff     table          6\n",
       "3  public  staff     table          6\n",
       "4  public  staff     table          6"
      ]
     },
     "execution_count": 11,
     "metadata": {},
     "output_type": "execute_result"
    }
   ],
   "source": [
    "data.head()"
   ]
  },
  {
   "cell_type": "code",
   "execution_count": 12,
   "metadata": {},
   "outputs": [
    {
     "data": {
      "text/plain": [
       "(172, 4)"
      ]
     },
     "execution_count": 12,
     "metadata": {},
     "output_type": "execute_result"
    }
   ],
   "source": [
    "data.shape"
   ]
  },
  {
   "cell_type": "code",
   "execution_count": 13,
   "metadata": {},
   "outputs": [],
   "source": [
    "data.drop_duplicates(inplace = True)"
   ]
  },
  {
   "cell_type": "code",
   "execution_count": 14,
   "metadata": {},
   "outputs": [],
   "source": [
    "data.reset_index(drop = True, inplace = True)"
   ]
  },
  {
   "cell_type": "markdown",
   "metadata": {},
   "source": [
    "### Probe database for column sizes"
   ]
  },
  {
   "cell_type": "code",
   "execution_count": 15,
   "metadata": {},
   "outputs": [],
   "source": [
    "connection = psycopg2.connect(\"host=localhost dbname=dvdrentals user=danielcorcoran\")"
   ]
  },
  {
   "cell_type": "code",
   "execution_count": 16,
   "metadata": {
    "scrolled": true
   },
   "outputs": [
    {
     "name": "stdout",
     "output_type": "stream",
     "text": [
      "column name is staff_id, table name is staff\n",
      "column name is first_name, table name is staff\n",
      "column name is last_name, table name is staff\n",
      "column name is address_id, table name is staff\n",
      "column name is email, table name is staff\n",
      "column name is store_id, table name is staff\n",
      "column name is active, table name is staff\n",
      "column name is username, table name is staff\n",
      "column name is password, table name is staff\n",
      "column name is last_update, table name is staff\n",
      "column name is picture, table name is staff\n",
      "column name is category_id, table name is category\n",
      "column name is name, table name is category\n",
      "column name is last_update, table name is category\n",
      "column name is film_id, table name is film_category\n",
      "column name is category_id, table name is film_category\n",
      "column name is last_update, table name is film_category\n",
      "column name is country_id, table name is country\n",
      "column name is country, table name is country\n",
      "column name is last_update, table name is country\n",
      "column name is actor_id, table name is actor\n",
      "column name is first_name, table name is actor\n",
      "column name is last_name, table name is actor\n",
      "column name is last_update, table name is actor\n",
      "column name is language_id, table name is language\n",
      "column name is name, table name is language\n",
      "column name is last_update, table name is language\n",
      "column name is inventory_id, table name is inventory\n",
      "column name is film_id, table name is inventory\n",
      "column name is store_id, table name is inventory\n",
      "column name is last_update, table name is inventory\n",
      "column name is payment_id, table name is payment\n",
      "column name is customer_id, table name is payment\n",
      "column name is staff_id, table name is payment\n",
      "column name is rental_id, table name is payment\n",
      "column name is amount, table name is payment\n",
      "column name is payment_date, table name is payment\n",
      "column name is rental_id, table name is rental\n",
      "column name is rental_date, table name is rental\n",
      "column name is inventory_id, table name is rental\n",
      "column name is customer_id, table name is rental\n",
      "column name is return_date, table name is rental\n",
      "column name is staff_id, table name is rental\n",
      "column name is last_update, table name is rental\n",
      "column name is city_id, table name is city\n",
      "column name is city, table name is city\n",
      "column name is country_id, table name is city\n",
      "column name is last_update, table name is city\n",
      "column name is store_id, table name is store\n",
      "column name is manager_staff_id, table name is store\n",
      "column name is address_id, table name is store\n",
      "column name is last_update, table name is store\n",
      "column name is film_id, table name is film\n",
      "column name is title, table name is film\n",
      "column name is description, table name is film\n",
      "column name is release_year, table name is film\n",
      "column name is language_id, table name is film\n",
      "column name is rental_duration, table name is film\n",
      "column name is rental_rate, table name is film\n",
      "column name is length, table name is film\n",
      "column name is replacement_cost, table name is film\n",
      "column name is rating, table name is film\n",
      "column name is last_update, table name is film\n",
      "column name is special_features, table name is film\n",
      "column name is fulltext, table name is film\n",
      "column name is address_id, table name is address\n",
      "column name is address, table name is address\n",
      "column name is address2, table name is address\n",
      "column name is district, table name is address\n",
      "column name is city_id, table name is address\n",
      "column name is postal_code, table name is address\n",
      "column name is phone, table name is address\n",
      "column name is last_update, table name is address\n",
      "column name is actor_id, table name is film_actor\n",
      "column name is film_id, table name is film_actor\n",
      "column name is last_update, table name is film_actor\n",
      "column name is customer_id, table name is customer\n",
      "column name is store_id, table name is customer\n",
      "column name is first_name, table name is customer\n",
      "column name is last_name, table name is customer\n",
      "column name is email, table name is customer\n",
      "column name is address_id, table name is customer\n",
      "column name is activebool, table name is customer\n",
      "column name is create_date, table name is customer\n",
      "column name is last_update, table name is customer\n",
      "column name is active, table name is customer\n"
     ]
    }
   ],
   "source": [
    "for index in range(data.shape[0]):\n",
    "    \n",
    "    structure = data.loc[index, \"structure\"]\n",
    "    \n",
    "    if structure == \"column\":\n",
    "        \n",
    "        column_name = data.loc[index, \"target\"]\n",
    "        table_name = data.loc[index, \"source\"]\n",
    "\n",
    "        print(\"column name is {}, table name is {}\".format(column_name, table_name))\n",
    "        cursor = connection.cursor()\n",
    "        cursor.execute(\"SELECT SUM(pg_column_size({})) AS SIZE FROM {}\".format(column_name, table_name))\n",
    "        records = cursor.fetchall()\n",
    "        record_dataframe = pandas.DataFrame(records)\n",
    "        record_dataframe\n",
    "        \n",
    "        value = record_dataframe.iloc[0,0]\n",
    "        \n",
    "        data.loc[index, \"size\"] = value\n",
    "        \n",
    "        cursor.close()"
   ]
  },
  {
   "cell_type": "code",
   "execution_count": 17,
   "metadata": {},
   "outputs": [
    {
     "data": {
      "text/html": [
       "<div>\n",
       "<style scoped>\n",
       "    .dataframe tbody tr th:only-of-type {\n",
       "        vertical-align: middle;\n",
       "    }\n",
       "\n",
       "    .dataframe tbody tr th {\n",
       "        vertical-align: top;\n",
       "    }\n",
       "\n",
       "    .dataframe thead th {\n",
       "        text-align: right;\n",
       "    }\n",
       "</style>\n",
       "<table border=\"1\" class=\"dataframe\">\n",
       "  <thead>\n",
       "    <tr style=\"text-align: right;\">\n",
       "      <th></th>\n",
       "      <th>source</th>\n",
       "      <th>target</th>\n",
       "      <th>structure</th>\n",
       "      <th>node_size</th>\n",
       "      <th>size</th>\n",
       "    </tr>\n",
       "  </thead>\n",
       "  <tbody>\n",
       "    <tr>\n",
       "      <th>0</th>\n",
       "      <td>public</td>\n",
       "      <td>staff</td>\n",
       "      <td>table</td>\n",
       "      <td>6</td>\n",
       "      <td>NaN</td>\n",
       "    </tr>\n",
       "    <tr>\n",
       "      <th>1</th>\n",
       "      <td>public</td>\n",
       "      <td>category</td>\n",
       "      <td>table</td>\n",
       "      <td>6</td>\n",
       "      <td>NaN</td>\n",
       "    </tr>\n",
       "    <tr>\n",
       "      <th>2</th>\n",
       "      <td>public</td>\n",
       "      <td>film_category</td>\n",
       "      <td>table</td>\n",
       "      <td>6</td>\n",
       "      <td>NaN</td>\n",
       "    </tr>\n",
       "    <tr>\n",
       "      <th>3</th>\n",
       "      <td>public</td>\n",
       "      <td>country</td>\n",
       "      <td>table</td>\n",
       "      <td>6</td>\n",
       "      <td>NaN</td>\n",
       "    </tr>\n",
       "    <tr>\n",
       "      <th>4</th>\n",
       "      <td>public</td>\n",
       "      <td>actor</td>\n",
       "      <td>table</td>\n",
       "      <td>6</td>\n",
       "      <td>NaN</td>\n",
       "    </tr>\n",
       "  </tbody>\n",
       "</table>\n",
       "</div>"
      ],
      "text/plain": [
       "   source         target structure  node_size  size\n",
       "0  public          staff     table          6   NaN\n",
       "1  public       category     table          6   NaN\n",
       "2  public  film_category     table          6   NaN\n",
       "3  public        country     table          6   NaN\n",
       "4  public          actor     table          6   NaN"
      ]
     },
     "execution_count": 17,
     "metadata": {},
     "output_type": "execute_result"
    }
   ],
   "source": [
    "data.head()"
   ]
  },
  {
   "cell_type": "code",
   "execution_count": 18,
   "metadata": {},
   "outputs": [],
   "source": [
    "for index in range(data.shape[0]):\n",
    "    \n",
    "    structure = data.loc[index, \"structure\"]\n",
    "    \n",
    "    if structure == \"table\":\n",
    "        \n",
    "        table_name = data.loc[index, \"target\"]\n",
    "        \n",
    "        aggregate_size = data[data[\"source\"] == table_name][\"size\"].sum()\n",
    "        \n",
    "        data.loc[index, \"size\"] = aggregate_size"
   ]
  },
  {
   "cell_type": "markdown",
   "metadata": {},
   "source": [
    "#### Setting the bins column"
   ]
  },
  {
   "cell_type": "code",
   "execution_count": 19,
   "metadata": {},
   "outputs": [],
   "source": [
    "data[\"bins\"] = pandas.cut(data[\"size\"], bins = 7)\n",
    "data[\"bins\"] = data[\"bins\"].astype(str)"
   ]
  },
  {
   "cell_type": "markdown",
   "metadata": {},
   "source": [
    "#### Show unique bins"
   ]
  },
  {
   "cell_type": "code",
   "execution_count": 20,
   "metadata": {},
   "outputs": [
    {
     "name": "stdout",
     "output_type": "stream",
     "text": [
      "['(-574.118, 82304.571]' '(329212.286, 411514.857]'\n",
      " '(493817.429, 576120.0]' '(82304.571, 164607.143]'\n",
      " '(164607.143, 246909.714]']\n"
     ]
    }
   ],
   "source": [
    "print(data[\"bins\"].unique())"
   ]
  },
  {
   "cell_type": "markdown",
   "metadata": {},
   "source": [
    "#### Create sizing for bins"
   ]
  },
  {
   "cell_type": "code",
   "execution_count": 21,
   "metadata": {},
   "outputs": [],
   "source": [
    "colours = ['#fdd49e',\n",
    "'#fdbb84',\n",
    "'#fc8d59',\n",
    "'#ef6548',\n",
    "'#d7301f',\n",
    "'#990000']"
   ]
  },
  {
   "cell_type": "code",
   "execution_count": 22,
   "metadata": {},
   "outputs": [],
   "source": [
    "offset = 3\n",
    "\n",
    "for index in range(data.shape[0]):\n",
    "    bin_text = data.loc[index, \"bins\"]\n",
    "    \n",
    "    if bin_text == '(-574.118, 82304.571]':\n",
    "        data.loc[index, \"bins_node_size\"] = offset + 3\n",
    "        data.loc[index, \"html_colour\"] = colours[0]\n",
    "        \n",
    "    elif bin_text == '(82304.571, 164607.143]':\n",
    "        data.loc[index, \"bins_node_size\"] = offset + 4\n",
    "        data.loc[index, \"html_colour\"] = colours[1]\n",
    "        \n",
    "    elif bin_text == '(164607.143, 246909.714]':\n",
    "        data.loc[index, \"bins_node_size\"] = offset + 5\n",
    "        data.loc[index, \"html_colour\"] = colours[2]\n",
    "        \n",
    "    elif bin_text == '(329212.286, 411514.857]':\n",
    "        data.loc[index, \"bins_node_size\"] = offset + 6\n",
    "        data.loc[index, \"html_colour\"] = colours[3]\n",
    "        \n",
    "    elif bin_text == '(493817.429, 576120.0]':\n",
    "        data.loc[index, \"bins_node_size\"] = offset + 7\n",
    "        data.loc[index, \"html_colour\"] = colours[4]"
   ]
  },
  {
   "cell_type": "markdown",
   "metadata": {},
   "source": [
    "## Build Json"
   ]
  },
  {
   "cell_type": "markdown",
   "metadata": {},
   "source": [
    "### Helper Functions"
   ]
  },
  {
   "cell_type": "code",
   "execution_count": 23,
   "metadata": {},
   "outputs": [],
   "source": [
    "def get_unique_nodes_from_list(list_of_dictionaries, seeking_key = \"name\"):\n",
    "   \n",
    "    the_list = list(map(lambda dictionary: dictionary[seeking_key], list_of_dictionaries))\n",
    "    \n",
    "    return the_list    "
   ]
  },
  {
   "cell_type": "markdown",
   "metadata": {},
   "source": [
    "### Set source and target column headers"
   ]
  },
  {
   "cell_type": "code",
   "execution_count": 24,
   "metadata": {},
   "outputs": [],
   "source": [
    "source_header = \"source\"\n",
    "target_header = \"target\""
   ]
  },
  {
   "cell_type": "markdown",
   "metadata": {},
   "source": [
    "### Convert items to strings"
   ]
  },
  {
   "cell_type": "code",
   "execution_count": 25,
   "metadata": {},
   "outputs": [],
   "source": [
    "data[source_header] = data[source_header].astype(str)"
   ]
  },
  {
   "cell_type": "code",
   "execution_count": 26,
   "metadata": {},
   "outputs": [],
   "source": [
    "data[target_header] = data[target_header].astype(str)"
   ]
  },
  {
   "cell_type": "markdown",
   "metadata": {},
   "source": [
    "## Process"
   ]
  },
  {
   "cell_type": "code",
   "execution_count": 27,
   "metadata": {},
   "outputs": [],
   "source": [
    "nodes_list = []\n",
    "links_list = []\n",
    "\n",
    "row_count = data.shape[0]"
   ]
  },
  {
   "cell_type": "markdown",
   "metadata": {},
   "source": [
    "### Iterate through each row in the dataset"
   ]
  },
  {
   "cell_type": "code",
   "execution_count": 28,
   "metadata": {},
   "outputs": [
    {
     "name": "stdout",
     "output_type": "stream",
     "text": [
      "Processing index 0\n",
      "Target text is staff, source text is public\n",
      "Processing index 1\n",
      "Target text is category, source text is public\n",
      "Processing index 2\n",
      "Target text is film_category, source text is public\n",
      "Processing index 3\n",
      "Target text is country, source text is public\n",
      "Processing index 4\n",
      "Target text is actor, source text is public\n",
      "Processing index 5\n",
      "Target text is language, source text is public\n",
      "Processing index 6\n",
      "Target text is inventory, source text is public\n",
      "Processing index 7\n",
      "Target text is payment, source text is public\n",
      "Processing index 8\n",
      "Target text is rental, source text is public\n",
      "Processing index 9\n",
      "Target text is city, source text is public\n",
      "Processing index 10\n",
      "Target text is store, source text is public\n",
      "Processing index 11\n",
      "Target text is film, source text is public\n",
      "Processing index 12\n",
      "Target text is address, source text is public\n",
      "Processing index 13\n",
      "Target text is film_actor, source text is public\n",
      "Processing index 14\n",
      "Target text is customer, source text is public\n",
      "Processing index 15\n",
      "Target text is staff_id, source text is staff\n",
      "Processing index 16\n",
      "Target text is first_name, source text is staff\n",
      "Processing index 17\n",
      "Target text is last_name, source text is staff\n",
      "Processing index 18\n",
      "Target text is address_id, source text is staff\n",
      "Processing index 19\n",
      "Target text is email, source text is staff\n",
      "Processing index 20\n",
      "Target text is store_id, source text is staff\n",
      "Processing index 21\n",
      "Target text is active, source text is staff\n",
      "Processing index 22\n",
      "Target text is username, source text is staff\n",
      "Processing index 23\n",
      "Target text is password, source text is staff\n",
      "Processing index 24\n",
      "Target text is last_update, source text is staff\n",
      "Processing index 25\n",
      "Target text is picture, source text is staff\n",
      "Processing index 26\n",
      "Target text is category_id, source text is category\n",
      "Processing index 27\n",
      "Target text is name, source text is category\n",
      "Processing index 28\n",
      "Target text is last_update, source text is category\n",
      "Processing index 29\n",
      "Target text is film_id, source text is film_category\n",
      "Processing index 30\n",
      "Target text is category_id, source text is film_category\n",
      "Processing index 31\n",
      "Target text is last_update, source text is film_category\n",
      "Processing index 32\n",
      "Target text is country_id, source text is country\n",
      "Processing index 33\n",
      "Target text is country, source text is country\n",
      "Processing index 34\n",
      "Target text is last_update, source text is country\n",
      "Processing index 35\n",
      "Target text is actor_id, source text is actor\n",
      "Processing index 36\n",
      "Target text is first_name, source text is actor\n",
      "Processing index 37\n",
      "Target text is last_name, source text is actor\n",
      "Processing index 38\n",
      "Target text is last_update, source text is actor\n",
      "Processing index 39\n",
      "Target text is language_id, source text is language\n",
      "Processing index 40\n",
      "Target text is name, source text is language\n",
      "Processing index 41\n",
      "Target text is last_update, source text is language\n",
      "Processing index 42\n",
      "Target text is inventory_id, source text is inventory\n",
      "Processing index 43\n",
      "Target text is film_id, source text is inventory\n",
      "Processing index 44\n",
      "Target text is store_id, source text is inventory\n",
      "Processing index 45\n",
      "Target text is last_update, source text is inventory\n",
      "Processing index 46\n",
      "Target text is payment_id, source text is payment\n",
      "Processing index 47\n",
      "Target text is customer_id, source text is payment\n",
      "Processing index 48\n",
      "Target text is staff_id, source text is payment\n",
      "Processing index 49\n",
      "Target text is rental_id, source text is payment\n",
      "Processing index 50\n",
      "Target text is amount, source text is payment\n",
      "Processing index 51\n",
      "Target text is payment_date, source text is payment\n",
      "Processing index 52\n",
      "Target text is rental_id, source text is rental\n",
      "Processing index 53\n",
      "Target text is rental_date, source text is rental\n",
      "Processing index 54\n",
      "Target text is inventory_id, source text is rental\n",
      "Processing index 55\n",
      "Target text is customer_id, source text is rental\n",
      "Processing index 56\n",
      "Target text is return_date, source text is rental\n",
      "Processing index 57\n",
      "Target text is staff_id, source text is rental\n",
      "Processing index 58\n",
      "Target text is last_update, source text is rental\n",
      "Processing index 59\n",
      "Target text is city_id, source text is city\n",
      "Processing index 60\n",
      "Target text is city, source text is city\n",
      "Processing index 61\n",
      "Target text is country_id, source text is city\n",
      "Processing index 62\n",
      "Target text is last_update, source text is city\n",
      "Processing index 63\n",
      "Target text is store_id, source text is store\n",
      "Processing index 64\n",
      "Target text is manager_staff_id, source text is store\n",
      "Processing index 65\n",
      "Target text is address_id, source text is store\n",
      "Processing index 66\n",
      "Target text is last_update, source text is store\n",
      "Processing index 67\n",
      "Target text is film_id, source text is film\n",
      "Processing index 68\n",
      "Target text is title, source text is film\n",
      "Processing index 69\n",
      "Target text is description, source text is film\n",
      "Processing index 70\n",
      "Target text is release_year, source text is film\n",
      "Processing index 71\n",
      "Target text is language_id, source text is film\n",
      "Processing index 72\n",
      "Target text is rental_duration, source text is film\n",
      "Processing index 73\n",
      "Target text is rental_rate, source text is film\n",
      "Processing index 74\n",
      "Target text is length, source text is film\n",
      "Processing index 75\n",
      "Target text is replacement_cost, source text is film\n",
      "Processing index 76\n",
      "Target text is rating, source text is film\n",
      "Processing index 77\n",
      "Target text is last_update, source text is film\n",
      "Processing index 78\n",
      "Target text is special_features, source text is film\n",
      "Processing index 79\n",
      "Target text is fulltext, source text is film\n",
      "Processing index 80\n",
      "Target text is address_id, source text is address\n",
      "Processing index 81\n",
      "Target text is address, source text is address\n",
      "Processing index 82\n",
      "Target text is address2, source text is address\n",
      "Processing index 83\n",
      "Target text is district, source text is address\n",
      "Processing index 84\n",
      "Target text is city_id, source text is address\n",
      "Processing index 85\n",
      "Target text is postal_code, source text is address\n",
      "Processing index 86\n",
      "Target text is phone, source text is address\n",
      "Processing index 87\n",
      "Target text is last_update, source text is address\n",
      "Processing index 88\n",
      "Target text is actor_id, source text is film_actor\n",
      "Processing index 89\n",
      "Target text is film_id, source text is film_actor\n",
      "Processing index 90\n",
      "Target text is last_update, source text is film_actor\n",
      "Processing index 91\n",
      "Target text is customer_id, source text is customer\n",
      "Processing index 92\n",
      "Target text is store_id, source text is customer\n",
      "Processing index 93\n",
      "Target text is first_name, source text is customer\n",
      "Processing index 94\n",
      "Target text is last_name, source text is customer\n",
      "Processing index 95\n",
      "Target text is email, source text is customer\n",
      "Processing index 96\n",
      "Target text is address_id, source text is customer\n",
      "Processing index 97\n",
      "Target text is activebool, source text is customer\n",
      "Processing index 98\n",
      "Target text is create_date, source text is customer\n",
      "Processing index 99\n",
      "Target text is last_update, source text is customer\n",
      "Processing index 100\n",
      "Target text is active, source text is customer\n"
     ]
    }
   ],
   "source": [
    "for index in range(row_count):\n",
    "    \n",
    "    #print index\n",
    "    print(\"Processing index {}\".format(index))\n",
    "    \n",
    "    # At the row level, store the target text, source text and other optional parameters such as colour, node_size etc\n",
    "    target_text = data.loc[index, target_header]\n",
    "    source_text = data.loc[index, source_header]\n",
    "    html_colour = data.loc[index, \"html_colour\"]\n",
    "    size = str(data.loc[index, \"bins_node_size\"])\n",
    "    max_node_size = data[\"bins_node_size\"].max()\n",
    "    home_node_size = max_node_size + 3\n",
    "    \n",
    "    print(\"Target text is {}, source text is {}\".format(target_text, source_text))\n",
    "    \n",
    "    # Create a unique list of current nodes in nodes list\n",
    "    current_nodes = get_unique_nodes_from_list(nodes_list)\n",
    "    \n",
    "    # Check if target and source text exists in the current nodes list. if they dont create them\n",
    "    if target_text not in current_nodes:\n",
    "        nodes_list.append({\"name\":target_text, \"colour\": html_colour, \"size\": size})\n",
    "        \n",
    "    if source_text not in current_nodes:\n",
    "        nodes_list.append({\"name\":source_text, \"colour\": colours[4], \"size\": home_node_size})\n",
    "        \n",
    "    # Recreate unique nodes list after the changes made above\n",
    "    updated_nodes = get_unique_nodes_from_list(nodes_list)\n",
    "\n",
    "    # Locate the index of the \n",
    "    target_node_index = updated_nodes.index(target_text)\n",
    "    source_node_index = updated_nodes.index(source_text)\n",
    "    \n",
    "    links_list.append({\"source\":source_node_index, \n",
    "                        \"target\":target_node_index,\n",
    "                        \"value\":10})"
   ]
  },
  {
   "cell_type": "markdown",
   "metadata": {},
   "source": [
    "### Create dictionary storing links_list and nodes_list together"
   ]
  },
  {
   "cell_type": "code",
   "execution_count": 29,
   "metadata": {},
   "outputs": [],
   "source": [
    "json_data = {\"links\": links_list,\"nodes\":nodes_list}"
   ]
  },
  {
   "cell_type": "markdown",
   "metadata": {},
   "source": [
    "## Export Json"
   ]
  },
  {
   "cell_type": "markdown",
   "metadata": {},
   "source": [
    "### Convert python dictionary to json string"
   ]
  },
  {
   "cell_type": "code",
   "execution_count": 30,
   "metadata": {},
   "outputs": [],
   "source": [
    "json_dump = json.dumps(json_data, indent=1, sort_keys=True)"
   ]
  },
  {
   "cell_type": "markdown",
   "metadata": {},
   "source": [
    "### Export to filename 'pcap_export.json' to be used in index.html"
   ]
  },
  {
   "cell_type": "code",
   "execution_count": 31,
   "metadata": {},
   "outputs": [],
   "source": [
    "json_out = open(\"json/dvdrental_database_network_2.json\", \"w\")\n",
    "json_out.write(json_dump)\n",
    "json_out.close()"
   ]
  }
 ],
 "metadata": {
  "kernelspec": {
   "display_name": "Python 3",
   "language": "python",
   "name": "python3"
  },
  "language_info": {
   "codemirror_mode": {
    "name": "ipython",
    "version": 3
   },
   "file_extension": ".py",
   "mimetype": "text/x-python",
   "name": "python",
   "nbconvert_exporter": "python",
   "pygments_lexer": "ipython3",
   "version": "3.6.5"
  },
  "toc": {
   "base_numbering": 1,
   "nav_menu": {},
   "number_sections": true,
   "sideBar": true,
   "skip_h1_title": false,
   "title_cell": "Table of Contents",
   "title_sidebar": "Contents",
   "toc_cell": false,
   "toc_position": {
    "height": "615px",
    "left": "67px",
    "top": "111px",
    "width": "222px"
   },
   "toc_section_display": true,
   "toc_window_display": true
  },
  "varInspector": {
   "cols": {
    "lenName": 16,
    "lenType": 16,
    "lenVar": 40
   },
   "kernels_config": {
    "python": {
     "delete_cmd_postfix": "",
     "delete_cmd_prefix": "del ",
     "library": "var_list.py",
     "varRefreshCmd": "print(var_dic_list())"
    },
    "r": {
     "delete_cmd_postfix": ") ",
     "delete_cmd_prefix": "rm(",
     "library": "var_list.r",
     "varRefreshCmd": "cat(var_dic_list()) "
    }
   },
   "types_to_exclude": [
    "module",
    "function",
    "builtin_function_or_method",
    "instance",
    "_Feature"
   ],
   "window_display": false
  }
 },
 "nbformat": 4,
 "nbformat_minor": 2
}
