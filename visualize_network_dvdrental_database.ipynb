{
 "cells": [
  {
   "cell_type": "markdown",
   "metadata": {},
   "source": [
    "# Visualize Database\n",
    "- Following thread \"http://www.austintaylor.io/d3/python/pandas/2016/02/01/create-d3-chart-python-force-directed/\"\n",
    "- Attempting to visualize the dvdrentals sample postgres database"
   ]
  },
  {
   "cell_type": "markdown",
   "metadata": {},
   "source": [
    "## The Network Structure\n",
    "- A dictionary with two lists, nodes and links.\n",
    "- links contains the relationships between nodes\n",
    "- nodes contains each individual node"
   ]
  },
  {
   "cell_type": "markdown",
   "metadata": {},
   "source": [
    "```json\n",
    "{\n",
    "  \"nodes\":  [\n",
    "    { \"name\": \"desktop\", \"group\":  1},\n",
    "    { \"name\": \"desktop/apples.txt\", \"group\":  1},\n",
    "    { \"name\": \"desktop/pineapple/apples.txt\", \"group\":  1},\n",
    "    { \"name\": \"desktop/bananas.txt\", \"group\":  1}\n",
    "  ],\n",
    "\n",
    "  \"links\":  [\n",
    "    { \"source\":  1,  \"target\":  0,  \"value\":  5555 },\n",
    "    { \"source\":  2,  \"target\":  0,  \"value\":  1 },\n",
    "    { \"source\":  3,  \"target\":  0,  \"value\": 1 }\n",
    "  ]\n",
    "}\n",
    "```"
   ]
  },
  {
   "cell_type": "markdown",
   "metadata": {},
   "source": [
    "## Setup"
   ]
  },
  {
   "cell_type": "markdown",
   "metadata": {},
   "source": [
    "### Modules"
   ]
  },
  {
   "cell_type": "code",
   "execution_count": 1,
   "metadata": {},
   "outputs": [],
   "source": [
    "import os\n",
    "import pandas\n",
    "import json"
   ]
  },
  {
   "cell_type": "markdown",
   "metadata": {},
   "source": [
    "### Postgres SQL code generating the csv below"
   ]
  },
  {
   "cell_type": "markdown",
   "metadata": {},
   "source": [
    "```SQL\n",
    "\n",
    "-- Drop table if it exists\n",
    "\n",
    "DROP TABLE\n",
    "\ttest_data\n",
    "\n",
    "-- Create new table containing column and table information from dvdrentals database\n",
    "\n",
    "SELECT \n",
    "\t*\n",
    "INTO \n",
    "\ttest_data \n",
    "FROM (\n",
    "SELECT\n",
    "\ttable_schema,\n",
    "\ttable_name,\n",
    "\tcolumn_name\n",
    "FROM\n",
    "\tinformation_schema.columns\n",
    "WHERE\n",
    "\ttable_schema = 'public' AND\n",
    "\ttable_name IN ('actor','address','category','city','country',\n",
    "\t\t\t\t   'customer','film','film_actor','film_category','inventory',\n",
    "\t\t\t\t   'language','payment','rental','staff','store')\n",
    ") AS subset\n",
    "\n",
    "-- Export to disk\n",
    "COPY\n",
    "\t(SELECT * FROM test_data)\n",
    "TO\n",
    "\t'/users/danielcorcoran/desktop/github_repos/python_nb_networks/raw data/dvdrentals_column_data.csv'\n",
    "DELIMITER\n",
    "\t','\n",
    "CSV HEADER\n",
    "\n",
    "```"
   ]
  },
  {
   "cell_type": "markdown",
   "metadata": {},
   "source": [
    "### Data File Path "
   ]
  },
  {
   "cell_type": "code",
   "execution_count": 2,
   "metadata": {},
   "outputs": [],
   "source": [
    "data_path = \"/users/danielcorcoran/desktop/github_repos/python_nb_networks/raw data/dvdrentals_column_data.csv\""
   ]
  },
  {
   "cell_type": "markdown",
   "metadata": {},
   "source": [
    "### Read in data, add columns"
   ]
  },
  {
   "cell_type": "code",
   "execution_count": 3,
   "metadata": {},
   "outputs": [],
   "source": [
    "raw_data = pandas.read_csv(data_path)"
   ]
  },
  {
   "cell_type": "code",
   "execution_count": 4,
   "metadata": {},
   "outputs": [
    {
     "data": {
      "text/html": [
       "<div>\n",
       "<style scoped>\n",
       "    .dataframe tbody tr th:only-of-type {\n",
       "        vertical-align: middle;\n",
       "    }\n",
       "\n",
       "    .dataframe tbody tr th {\n",
       "        vertical-align: top;\n",
       "    }\n",
       "\n",
       "    .dataframe thead th {\n",
       "        text-align: right;\n",
       "    }\n",
       "</style>\n",
       "<table border=\"1\" class=\"dataframe\">\n",
       "  <thead>\n",
       "    <tr style=\"text-align: right;\">\n",
       "      <th></th>\n",
       "      <th>table_schema</th>\n",
       "      <th>table_name</th>\n",
       "      <th>column_name</th>\n",
       "    </tr>\n",
       "  </thead>\n",
       "  <tbody>\n",
       "    <tr>\n",
       "      <th>0</th>\n",
       "      <td>public</td>\n",
       "      <td>staff</td>\n",
       "      <td>staff_id</td>\n",
       "    </tr>\n",
       "    <tr>\n",
       "      <th>1</th>\n",
       "      <td>public</td>\n",
       "      <td>staff</td>\n",
       "      <td>first_name</td>\n",
       "    </tr>\n",
       "    <tr>\n",
       "      <th>2</th>\n",
       "      <td>public</td>\n",
       "      <td>staff</td>\n",
       "      <td>last_name</td>\n",
       "    </tr>\n",
       "    <tr>\n",
       "      <th>3</th>\n",
       "      <td>public</td>\n",
       "      <td>staff</td>\n",
       "      <td>address_id</td>\n",
       "    </tr>\n",
       "    <tr>\n",
       "      <th>4</th>\n",
       "      <td>public</td>\n",
       "      <td>staff</td>\n",
       "      <td>email</td>\n",
       "    </tr>\n",
       "  </tbody>\n",
       "</table>\n",
       "</div>"
      ],
      "text/plain": [
       "  table_schema table_name column_name\n",
       "0       public      staff    staff_id\n",
       "1       public      staff  first_name\n",
       "2       public      staff   last_name\n",
       "3       public      staff  address_id\n",
       "4       public      staff       email"
      ]
     },
     "execution_count": 4,
     "metadata": {},
     "output_type": "execute_result"
    }
   ],
   "source": [
    "raw_data.head()"
   ]
  },
  {
   "cell_type": "markdown",
   "metadata": {},
   "source": [
    "## Manipulate raw data into desired format"
   ]
  },
  {
   "cell_type": "code",
   "execution_count": 5,
   "metadata": {},
   "outputs": [],
   "source": [
    "subset1 = raw_data[[\"table_schema\", \"table_name\"]]\n",
    "subset2 = raw_data[[\"table_name\", \"column_name\"]]"
   ]
  },
  {
   "cell_type": "code",
   "execution_count": 6,
   "metadata": {},
   "outputs": [
    {
     "data": {
      "text/html": [
       "<div>\n",
       "<style scoped>\n",
       "    .dataframe tbody tr th:only-of-type {\n",
       "        vertical-align: middle;\n",
       "    }\n",
       "\n",
       "    .dataframe tbody tr th {\n",
       "        vertical-align: top;\n",
       "    }\n",
       "\n",
       "    .dataframe thead th {\n",
       "        text-align: right;\n",
       "    }\n",
       "</style>\n",
       "<table border=\"1\" class=\"dataframe\">\n",
       "  <thead>\n",
       "    <tr style=\"text-align: right;\">\n",
       "      <th></th>\n",
       "      <th>table_schema</th>\n",
       "      <th>table_name</th>\n",
       "    </tr>\n",
       "  </thead>\n",
       "  <tbody>\n",
       "    <tr>\n",
       "      <th>0</th>\n",
       "      <td>public</td>\n",
       "      <td>staff</td>\n",
       "    </tr>\n",
       "    <tr>\n",
       "      <th>1</th>\n",
       "      <td>public</td>\n",
       "      <td>staff</td>\n",
       "    </tr>\n",
       "    <tr>\n",
       "      <th>2</th>\n",
       "      <td>public</td>\n",
       "      <td>staff</td>\n",
       "    </tr>\n",
       "    <tr>\n",
       "      <th>3</th>\n",
       "      <td>public</td>\n",
       "      <td>staff</td>\n",
       "    </tr>\n",
       "    <tr>\n",
       "      <th>4</th>\n",
       "      <td>public</td>\n",
       "      <td>staff</td>\n",
       "    </tr>\n",
       "  </tbody>\n",
       "</table>\n",
       "</div>"
      ],
      "text/plain": [
       "  table_schema table_name\n",
       "0       public      staff\n",
       "1       public      staff\n",
       "2       public      staff\n",
       "3       public      staff\n",
       "4       public      staff"
      ]
     },
     "execution_count": 6,
     "metadata": {},
     "output_type": "execute_result"
    }
   ],
   "source": [
    "subset1.head()"
   ]
  },
  {
   "cell_type": "code",
   "execution_count": 7,
   "metadata": {},
   "outputs": [
    {
     "data": {
      "text/html": [
       "<div>\n",
       "<style scoped>\n",
       "    .dataframe tbody tr th:only-of-type {\n",
       "        vertical-align: middle;\n",
       "    }\n",
       "\n",
       "    .dataframe tbody tr th {\n",
       "        vertical-align: top;\n",
       "    }\n",
       "\n",
       "    .dataframe thead th {\n",
       "        text-align: right;\n",
       "    }\n",
       "</style>\n",
       "<table border=\"1\" class=\"dataframe\">\n",
       "  <thead>\n",
       "    <tr style=\"text-align: right;\">\n",
       "      <th></th>\n",
       "      <th>table_name</th>\n",
       "      <th>column_name</th>\n",
       "    </tr>\n",
       "  </thead>\n",
       "  <tbody>\n",
       "    <tr>\n",
       "      <th>0</th>\n",
       "      <td>staff</td>\n",
       "      <td>staff_id</td>\n",
       "    </tr>\n",
       "    <tr>\n",
       "      <th>1</th>\n",
       "      <td>staff</td>\n",
       "      <td>first_name</td>\n",
       "    </tr>\n",
       "    <tr>\n",
       "      <th>2</th>\n",
       "      <td>staff</td>\n",
       "      <td>last_name</td>\n",
       "    </tr>\n",
       "    <tr>\n",
       "      <th>3</th>\n",
       "      <td>staff</td>\n",
       "      <td>address_id</td>\n",
       "    </tr>\n",
       "    <tr>\n",
       "      <th>4</th>\n",
       "      <td>staff</td>\n",
       "      <td>email</td>\n",
       "    </tr>\n",
       "  </tbody>\n",
       "</table>\n",
       "</div>"
      ],
      "text/plain": [
       "  table_name column_name\n",
       "0      staff    staff_id\n",
       "1      staff  first_name\n",
       "2      staff   last_name\n",
       "3      staff  address_id\n",
       "4      staff       email"
      ]
     },
     "execution_count": 7,
     "metadata": {},
     "output_type": "execute_result"
    }
   ],
   "source": [
    "subset2.head()"
   ]
  },
  {
   "cell_type": "code",
   "execution_count": 8,
   "metadata": {},
   "outputs": [],
   "source": [
    "subset1.columns = [\"source\", \"target\"]\n",
    "subset2.columns = [\"source\", \"target\"]"
   ]
  },
  {
   "cell_type": "code",
   "execution_count": 9,
   "metadata": {},
   "outputs": [],
   "source": [
    "subset1[\"structure\"] = \"table\"\n",
    "subset2[\"structure\"] = \"column\"\n",
    "\n",
    "subset1[\"colour_code\"] = \"#4ABBDB\"\n",
    "subset2[\"colour_code\"] = \"#FFAA00\"\n",
    "\n",
    "subset1[\"node_size\"] = 6\n",
    "subset2[\"node_size\"] = 4"
   ]
  },
  {
   "cell_type": "code",
   "execution_count": 10,
   "metadata": {},
   "outputs": [],
   "source": [
    "data = pandas.concat([subset1, subset2], axis = 0)"
   ]
  },
  {
   "cell_type": "code",
   "execution_count": 11,
   "metadata": {},
   "outputs": [
    {
     "data": {
      "text/html": [
       "<div>\n",
       "<style scoped>\n",
       "    .dataframe tbody tr th:only-of-type {\n",
       "        vertical-align: middle;\n",
       "    }\n",
       "\n",
       "    .dataframe tbody tr th {\n",
       "        vertical-align: top;\n",
       "    }\n",
       "\n",
       "    .dataframe thead th {\n",
       "        text-align: right;\n",
       "    }\n",
       "</style>\n",
       "<table border=\"1\" class=\"dataframe\">\n",
       "  <thead>\n",
       "    <tr style=\"text-align: right;\">\n",
       "      <th></th>\n",
       "      <th>source</th>\n",
       "      <th>target</th>\n",
       "      <th>structure</th>\n",
       "      <th>colour_code</th>\n",
       "      <th>node_size</th>\n",
       "    </tr>\n",
       "  </thead>\n",
       "  <tbody>\n",
       "    <tr>\n",
       "      <th>0</th>\n",
       "      <td>public</td>\n",
       "      <td>staff</td>\n",
       "      <td>table</td>\n",
       "      <td>#4ABBDB</td>\n",
       "      <td>6</td>\n",
       "    </tr>\n",
       "    <tr>\n",
       "      <th>1</th>\n",
       "      <td>public</td>\n",
       "      <td>staff</td>\n",
       "      <td>table</td>\n",
       "      <td>#4ABBDB</td>\n",
       "      <td>6</td>\n",
       "    </tr>\n",
       "    <tr>\n",
       "      <th>2</th>\n",
       "      <td>public</td>\n",
       "      <td>staff</td>\n",
       "      <td>table</td>\n",
       "      <td>#4ABBDB</td>\n",
       "      <td>6</td>\n",
       "    </tr>\n",
       "    <tr>\n",
       "      <th>3</th>\n",
       "      <td>public</td>\n",
       "      <td>staff</td>\n",
       "      <td>table</td>\n",
       "      <td>#4ABBDB</td>\n",
       "      <td>6</td>\n",
       "    </tr>\n",
       "    <tr>\n",
       "      <th>4</th>\n",
       "      <td>public</td>\n",
       "      <td>staff</td>\n",
       "      <td>table</td>\n",
       "      <td>#4ABBDB</td>\n",
       "      <td>6</td>\n",
       "    </tr>\n",
       "  </tbody>\n",
       "</table>\n",
       "</div>"
      ],
      "text/plain": [
       "   source target structure colour_code  node_size\n",
       "0  public  staff     table     #4ABBDB          6\n",
       "1  public  staff     table     #4ABBDB          6\n",
       "2  public  staff     table     #4ABBDB          6\n",
       "3  public  staff     table     #4ABBDB          6\n",
       "4  public  staff     table     #4ABBDB          6"
      ]
     },
     "execution_count": 11,
     "metadata": {},
     "output_type": "execute_result"
    }
   ],
   "source": [
    "data.head()"
   ]
  },
  {
   "cell_type": "code",
   "execution_count": 12,
   "metadata": {},
   "outputs": [
    {
     "data": {
      "text/plain": [
       "(172, 5)"
      ]
     },
     "execution_count": 12,
     "metadata": {},
     "output_type": "execute_result"
    }
   ],
   "source": [
    "data.shape"
   ]
  },
  {
   "cell_type": "code",
   "execution_count": 13,
   "metadata": {},
   "outputs": [],
   "source": [
    "data.drop_duplicates(inplace = True)"
   ]
  },
  {
   "cell_type": "code",
   "execution_count": 14,
   "metadata": {},
   "outputs": [],
   "source": [
    "data.reset_index(drop = True, inplace = True)"
   ]
  },
  {
   "cell_type": "markdown",
   "metadata": {},
   "source": [
    "## Build Json"
   ]
  },
  {
   "cell_type": "markdown",
   "metadata": {},
   "source": [
    "### Set source and target column headers"
   ]
  },
  {
   "cell_type": "code",
   "execution_count": 15,
   "metadata": {},
   "outputs": [],
   "source": [
    "source_header = \"source\"\n",
    "target_header = \"target\""
   ]
  },
  {
   "cell_type": "markdown",
   "metadata": {},
   "source": [
    "### Convert items to strings"
   ]
  },
  {
   "cell_type": "code",
   "execution_count": 16,
   "metadata": {},
   "outputs": [],
   "source": [
    "data[source_header] = data[source_header].astype(str)"
   ]
  },
  {
   "cell_type": "code",
   "execution_count": 17,
   "metadata": {},
   "outputs": [],
   "source": [
    "data[target_header] = data[target_header].astype(str)"
   ]
  },
  {
   "cell_type": "markdown",
   "metadata": {},
   "source": [
    "### Create list of unique targets to build nodes list"
   ]
  },
  {
   "cell_type": "code",
   "execution_count": 18,
   "metadata": {},
   "outputs": [],
   "source": [
    "unique_nodes = sorted(list(data[target_header].unique()))"
   ]
  },
  {
   "cell_type": "code",
   "execution_count": 19,
   "metadata": {},
   "outputs": [
    {
     "data": {
      "text/plain": [
       "58"
      ]
     },
     "execution_count": 19,
     "metadata": {},
     "output_type": "execute_result"
    }
   ],
   "source": [
    "len(unique_nodes)"
   ]
  },
  {
   "cell_type": "code",
   "execution_count": 20,
   "metadata": {},
   "outputs": [],
   "source": [
    "unique_sources = sorted(list(data[source_header].unique()))"
   ]
  },
  {
   "cell_type": "code",
   "execution_count": 21,
   "metadata": {},
   "outputs": [],
   "source": [
    "for source in unique_sources:\n",
    "    if source not in unique_nodes:\n",
    "        unique_nodes.append(source)"
   ]
  },
  {
   "cell_type": "markdown",
   "metadata": {},
   "source": [
    "### Build nodes list"
   ]
  },
  {
   "cell_type": "code",
   "execution_count": 22,
   "metadata": {},
   "outputs": [],
   "source": [
    "#create nodes\n",
    "nodes_list = []"
   ]
  },
  {
   "cell_type": "code",
   "execution_count": 23,
   "metadata": {},
   "outputs": [],
   "source": [
    "source_list = list(data[source_header])\n",
    "target_list = list(data[target_header])\n",
    "\n",
    "for item in unique_nodes:\n",
    "    \n",
    "    #try get index within target series list first\n",
    "    try:\n",
    "        index = target_list.index(item)\n",
    "        group_name = data.loc[index, \"structure\"]\n",
    "        if group_name == \"table\":\n",
    "            group_value = 0\n",
    "        elif group_name == \"column\":\n",
    "            group_value = 1\n",
    "        else:\n",
    "            group_value = -9990\n",
    "    #else try get index within source list\n",
    "    except:\n",
    "        index = source_list.index(item)\n",
    "        group_name = data.loc[index, \"structure\"]\n",
    "        if group_name == \"table\":\n",
    "            group_value = 0\n",
    "        elif group_name == \"column\":\n",
    "            group_value = 1\n",
    "        else:\n",
    "            group_value = -9990\n",
    "    \n",
    "    try:\n",
    "        index = target_list.index(item)\n",
    "        colour_code = data.loc[index, \"colour_code\"]\n",
    "    except:\n",
    "        colour_code = \"#000000\"\n",
    "        \n",
    "    try:\n",
    "        index = target_list.index(item)\n",
    "        size = data.loc[index, \"node_size\"]\n",
    "    except:\n",
    "        size = 8\n",
    "    \n",
    "    node_dictionary = {\"name\": item, \n",
    "                       \"group\": group_value, \n",
    "                       \"colour\": colour_code,\n",
    "                        \"size\": str(size)}\n",
    "    \n",
    "    nodes_list.append(node_dictionary)"
   ]
  },
  {
   "cell_type": "markdown",
   "metadata": {},
   "source": [
    "### Build links list"
   ]
  },
  {
   "cell_type": "code",
   "execution_count": 24,
   "metadata": {},
   "outputs": [],
   "source": [
    "links_list = []\n",
    "error_list = []"
   ]
  },
  {
   "cell_type": "code",
   "execution_count": 25,
   "metadata": {},
   "outputs": [],
   "source": [
    "for index in range(data.shape[0]):\n",
    "    \n",
    "    target_value = data.loc[index, target_header]\n",
    "    target_value_index = unique_nodes.index(target_value)  \n",
    "    \n",
    "    try:\n",
    "        source_value = data.loc[index, source_header]\n",
    "        source_value_index = unique_nodes.index(source_value)\n",
    "        \n",
    "        link_dictionary =  {\"source\":  source_value_index, \n",
    "                        \"target\":  target_value_index,\n",
    "                        \"value\":  10 }\n",
    "        links_list.append(link_dictionary)\n",
    "        \n",
    "    except:\n",
    "        \n",
    "        print(index, \"HAD EN ERROR\")\n",
    "        error_list.append(index)"
   ]
  },
  {
   "cell_type": "code",
   "execution_count": 26,
   "metadata": {},
   "outputs": [
    {
     "data": {
      "text/plain": [
       "59"
      ]
     },
     "execution_count": 26,
     "metadata": {},
     "output_type": "execute_result"
    }
   ],
   "source": [
    "len(nodes_list)"
   ]
  },
  {
   "cell_type": "markdown",
   "metadata": {},
   "source": [
    "### Create dictionary storing links_list and nodes_list together"
   ]
  },
  {
   "cell_type": "code",
   "execution_count": 27,
   "metadata": {},
   "outputs": [],
   "source": [
    "json_data = {\"links\": links_list,\"nodes\":nodes_list}"
   ]
  },
  {
   "cell_type": "markdown",
   "metadata": {},
   "source": [
    "## Export Json"
   ]
  },
  {
   "cell_type": "markdown",
   "metadata": {},
   "source": [
    "### Convert python dictionary to json string"
   ]
  },
  {
   "cell_type": "code",
   "execution_count": 28,
   "metadata": {},
   "outputs": [],
   "source": [
    "json_dump = json.dumps(json_data, indent=1, sort_keys=True)"
   ]
  },
  {
   "cell_type": "markdown",
   "metadata": {},
   "source": [
    "### Export to filename 'pcap_export.json' to be used in index.html"
   ]
  },
  {
   "cell_type": "code",
   "execution_count": 29,
   "metadata": {},
   "outputs": [],
   "source": [
    "json_out = open(\"json/dvdrental_database_network.json\", \"w\")\n",
    "json_out.write(json_dump)\n",
    "json_out.close()"
   ]
  }
 ],
 "metadata": {
  "kernelspec": {
   "display_name": "Python 3",
   "language": "python",
   "name": "python3"
  },
  "language_info": {
   "codemirror_mode": {
    "name": "ipython",
    "version": 3
   },
   "file_extension": ".py",
   "mimetype": "text/x-python",
   "name": "python",
   "nbconvert_exporter": "python",
   "pygments_lexer": "ipython3",
   "version": "3.6.5"
  },
  "toc": {
   "base_numbering": 1,
   "nav_menu": {},
   "number_sections": true,
   "sideBar": true,
   "skip_h1_title": false,
   "title_cell": "Table of Contents",
   "title_sidebar": "Contents",
   "toc_cell": false,
   "toc_position": {
    "height": "615px",
    "left": "67px",
    "top": "111px",
    "width": "222px"
   },
   "toc_section_display": true,
   "toc_window_display": true
  },
  "varInspector": {
   "cols": {
    "lenName": 16,
    "lenType": 16,
    "lenVar": 40
   },
   "kernels_config": {
    "python": {
     "delete_cmd_postfix": "",
     "delete_cmd_prefix": "del ",
     "library": "var_list.py",
     "varRefreshCmd": "print(var_dic_list())"
    },
    "r": {
     "delete_cmd_postfix": ") ",
     "delete_cmd_prefix": "rm(",
     "library": "var_list.r",
     "varRefreshCmd": "cat(var_dic_list()) "
    }
   },
   "types_to_exclude": [
    "module",
    "function",
    "builtin_function_or_method",
    "instance",
    "_Feature"
   ],
   "window_display": false
  }
 },
 "nbformat": 4,
 "nbformat_minor": 2
}
